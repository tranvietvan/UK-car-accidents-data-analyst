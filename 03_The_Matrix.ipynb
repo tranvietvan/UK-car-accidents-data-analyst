{
  "nbformat": 4,
  "nbformat_minor": 0,
  "metadata": {
    "colab": {
      "name": "03-The Matrix.ipynb",
      "provenance": [],
      "collapsed_sections": [
        "IZDkWBM82ovj",
        "TaTdrCrG0bqe",
        "Q7zr6AHBx-vp",
        "O7B6V7v_-ZmO",
        "ROpxc_NohHNi",
        "EAt_IysIqA0K",
        "_JChpeM81-P3",
        "_2bMh9eotRkm",
        "CGgMcihlDzWQ"
      ]
    },
    "kernelspec": {
      "display_name": "Python 3",
      "name": "python3"
    },
    "language_info": {
      "name": "python"
    }
  },
  "cells": [
    {
      "cell_type": "markdown",
      "metadata": {
        "id": "DMAIQMGfiip_"
      },
      "source": [
        "**Thông tin nhóm**\n",
        "\n",
        "**STT: 3**\n",
        "\n",
        "**Tên nhóm: The Matrix**"
      ]
    },
    {
      "cell_type": "markdown",
      "metadata": {
        "id": "tCIY3ayajRL_"
      },
      "source": [
        "Nhóm sẽ phân tích để có được các thông tin hữu ích từ dữ liệu: [UK Car Accidents 2005-2015](https://www.kaggle.com/silicon99/dft-accident-data)."
      ]
    },
    {
      "cell_type": "markdown",
      "metadata": {
        "id": "IZDkWBM82ovj"
      },
      "source": [
        "# **DOWNLOAD DATA**"
      ]
    },
    {
      "cell_type": "code",
      "metadata": {
        "colab": {
          "base_uri": "https://localhost:8080/"
        },
        "id": "EtAdG3ad2tom",
        "outputId": "eff208cb-ffc7-49e6-bc33-affcc175d8de"
      },
      "source": [
        "!gdown --id 1V3ku2QgBsqPnkTAtNNNaL6qHScAQ7nte\n",
        "!unzip archive.zip && rm archive.zip"
      ],
      "execution_count": null,
      "outputs": [
        {
          "name": "stdout",
          "output_type": "stream",
          "text": [
            "Downloading...\n",
            "From: https://drive.google.com/uc?id=1V3ku2QgBsqPnkTAtNNNaL6qHScAQ7nte\n",
            "To: /content/archive.zip\n",
            "117MB [00:01, 74.2MB/s]\n",
            "Archive:  archive.zip\n",
            "  inflating: Accidents0515.csv       \n",
            "  inflating: Casualties0515.csv      \n",
            "  inflating: Vehicles0515.csv        \n",
            "  inflating: contextCSVs/Accident_Severity.csv  \n",
            "  inflating: contextCSVs/Age_Band.csv  \n",
            "  inflating: contextCSVs/Casualty_Class.csv  \n",
            "  inflating: contextCSVs/Casualty_Severity.csv  \n",
            "  inflating: contextCSVs/Casualty_Type.csv  \n",
            "  inflating: contextCSVs/Day_of_Week.csv  \n",
            "  inflating: contextCSVs/Journey_Purpose.csv  \n",
            "  inflating: contextCSVs/Junction_Control.csv  \n",
            "  inflating: contextCSVs/Junction_Detail.csv  \n",
            "  inflating: contextCSVs/Junction_Location.csv  \n",
            "  inflating: contextCSVs/Light_Conditions.csv  \n",
            "  inflating: contextCSVs/Local_Authority_District.csv  \n",
            "  inflating: contextCSVs/Local_Authority_Highway.csv  \n",
            "  inflating: contextCSVs/Ped_Cross_Human.csv  \n",
            "  inflating: contextCSVs/Ped_Cross_Physical.csv  \n",
            "  inflating: contextCSVs/Ped_Location.csv  \n",
            "  inflating: contextCSVs/Ped_Movement.csv  \n",
            "  inflating: contextCSVs/Point_of_Impact.csv  \n",
            "  inflating: contextCSVs/Police_Force.csv  \n",
            "  inflating: contextCSVs/Police_Officer_Attend.csv  \n",
            "  inflating: contextCSVs/Road-Accident-Safety-Data-Guide.csv  \n",
            "  inflating: contextCSVs/Road_Class.csv  \n",
            "  inflating: contextCSVs/Road_Type.csv  \n",
            "  inflating: contextCSVs/Sex_of_Driver.csv  \n",
            "  inflating: contextCSVs/Urban_Rural.csv  \n",
            "  inflating: contextCSVs/Vehicle_Location.csv  \n",
            "  inflating: contextCSVs/Vehicle_Manoeuvre.csv  \n",
            "  inflating: contextCSVs/Vehicle_Type.csv  \n",
            "  inflating: tidydata.sh             \n"
          ]
        }
      ]
    },
    {
      "cell_type": "markdown",
      "metadata": {
        "id": "TaTdrCrG0bqe"
      },
      "source": [
        "# **IMPORT LIBRARY & TEST DATA**"
      ]
    },
    {
      "cell_type": "code",
      "metadata": {
        "id": "LsZ1E6ri0gPn"
      },
      "source": [
        "import pandas as pd\n",
        "import numpy as np\n",
        "import matplotlib.pyplot as plt\n",
        "import seaborn as sns\n",
        "import datetime as dt"
      ],
      "execution_count": null,
      "outputs": []
    },
    {
      "cell_type": "code",
      "metadata": {
        "colab": {
          "base_uri": "https://localhost:8080/"
        },
        "id": "vT5iMTOP0iK2",
        "outputId": "3a88c2f5-e2b9-4457-c1b2-f58ed1c194f6"
      },
      "source": [
        "#Example read data\n",
        "df = pd.read_csv(\"Accidents0515.csv\");\n",
        "df.head()"
      ],
      "execution_count": null,
      "outputs": [
        {
          "data": {
            "text/html": [
              "<div>\n",
              "<style scoped>\n",
              "    .dataframe tbody tr th:only-of-type {\n",
              "        vertical-align: middle;\n",
              "    }\n",
              "\n",
              "    .dataframe tbody tr th {\n",
              "        vertical-align: top;\n",
              "    }\n",
              "\n",
              "    .dataframe thead th {\n",
              "        text-align: right;\n",
              "    }\n",
              "</style>\n",
              "<table border=\"1\" class=\"dataframe\">\n",
              "  <thead>\n",
              "    <tr style=\"text-align: right;\">\n",
              "      <th></th>\n",
              "      <th>Accident_Index</th>\n",
              "      <th>Location_Easting_OSGR</th>\n",
              "      <th>Location_Northing_OSGR</th>\n",
              "      <th>Longitude</th>\n",
              "      <th>Latitude</th>\n",
              "      <th>Police_Force</th>\n",
              "      <th>Accident_Severity</th>\n",
              "      <th>Number_of_Vehicles</th>\n",
              "      <th>Number_of_Casualties</th>\n",
              "      <th>Date</th>\n",
              "      <th>Day_of_Week</th>\n",
              "      <th>Time</th>\n",
              "      <th>Local_Authority_(District)</th>\n",
              "      <th>Local_Authority_(Highway)</th>\n",
              "      <th>1st_Road_Class</th>\n",
              "      <th>1st_Road_Number</th>\n",
              "      <th>Road_Type</th>\n",
              "      <th>Speed_limit</th>\n",
              "      <th>Junction_Detail</th>\n",
              "      <th>Junction_Control</th>\n",
              "      <th>2nd_Road_Class</th>\n",
              "      <th>2nd_Road_Number</th>\n",
              "      <th>Pedestrian_Crossing-Human_Control</th>\n",
              "      <th>Pedestrian_Crossing-Physical_Facilities</th>\n",
              "      <th>Light_Conditions</th>\n",
              "      <th>Weather_Conditions</th>\n",
              "      <th>Road_Surface_Conditions</th>\n",
              "      <th>Special_Conditions_at_Site</th>\n",
              "      <th>Carriageway_Hazards</th>\n",
              "      <th>Urban_or_Rural_Area</th>\n",
              "      <th>Did_Police_Officer_Attend_Scene_of_Accident</th>\n",
              "      <th>LSOA_of_Accident_Location</th>\n",
              "    </tr>\n",
              "  </thead>\n",
              "  <tbody>\n",
              "    <tr>\n",
              "      <th>0</th>\n",
              "      <td>200501BS00001</td>\n",
              "      <td>525680.0</td>\n",
              "      <td>178240.0</td>\n",
              "      <td>-0.191170</td>\n",
              "      <td>51.489096</td>\n",
              "      <td>1</td>\n",
              "      <td>2</td>\n",
              "      <td>1</td>\n",
              "      <td>1</td>\n",
              "      <td>04/01/2005</td>\n",
              "      <td>3</td>\n",
              "      <td>17:42</td>\n",
              "      <td>12</td>\n",
              "      <td>E09000020</td>\n",
              "      <td>3</td>\n",
              "      <td>3218</td>\n",
              "      <td>6</td>\n",
              "      <td>30</td>\n",
              "      <td>0</td>\n",
              "      <td>-1</td>\n",
              "      <td>-1</td>\n",
              "      <td>0</td>\n",
              "      <td>0</td>\n",
              "      <td>1</td>\n",
              "      <td>1</td>\n",
              "      <td>2</td>\n",
              "      <td>2</td>\n",
              "      <td>0</td>\n",
              "      <td>0</td>\n",
              "      <td>1</td>\n",
              "      <td>1</td>\n",
              "      <td>E01002849</td>\n",
              "    </tr>\n",
              "    <tr>\n",
              "      <th>1</th>\n",
              "      <td>200501BS00002</td>\n",
              "      <td>524170.0</td>\n",
              "      <td>181650.0</td>\n",
              "      <td>-0.211708</td>\n",
              "      <td>51.520075</td>\n",
              "      <td>1</td>\n",
              "      <td>3</td>\n",
              "      <td>1</td>\n",
              "      <td>1</td>\n",
              "      <td>05/01/2005</td>\n",
              "      <td>4</td>\n",
              "      <td>17:36</td>\n",
              "      <td>12</td>\n",
              "      <td>E09000020</td>\n",
              "      <td>4</td>\n",
              "      <td>450</td>\n",
              "      <td>3</td>\n",
              "      <td>30</td>\n",
              "      <td>6</td>\n",
              "      <td>2</td>\n",
              "      <td>5</td>\n",
              "      <td>0</td>\n",
              "      <td>0</td>\n",
              "      <td>5</td>\n",
              "      <td>4</td>\n",
              "      <td>1</td>\n",
              "      <td>1</td>\n",
              "      <td>0</td>\n",
              "      <td>0</td>\n",
              "      <td>1</td>\n",
              "      <td>1</td>\n",
              "      <td>E01002909</td>\n",
              "    </tr>\n",
              "    <tr>\n",
              "      <th>2</th>\n",
              "      <td>200501BS00003</td>\n",
              "      <td>524520.0</td>\n",
              "      <td>182240.0</td>\n",
              "      <td>-0.206458</td>\n",
              "      <td>51.525301</td>\n",
              "      <td>1</td>\n",
              "      <td>3</td>\n",
              "      <td>2</td>\n",
              "      <td>1</td>\n",
              "      <td>06/01/2005</td>\n",
              "      <td>5</td>\n",
              "      <td>00:15</td>\n",
              "      <td>12</td>\n",
              "      <td>E09000020</td>\n",
              "      <td>5</td>\n",
              "      <td>0</td>\n",
              "      <td>6</td>\n",
              "      <td>30</td>\n",
              "      <td>0</td>\n",
              "      <td>-1</td>\n",
              "      <td>-1</td>\n",
              "      <td>0</td>\n",
              "      <td>0</td>\n",
              "      <td>0</td>\n",
              "      <td>4</td>\n",
              "      <td>1</td>\n",
              "      <td>1</td>\n",
              "      <td>0</td>\n",
              "      <td>0</td>\n",
              "      <td>1</td>\n",
              "      <td>1</td>\n",
              "      <td>E01002857</td>\n",
              "    </tr>\n",
              "    <tr>\n",
              "      <th>3</th>\n",
              "      <td>200501BS00004</td>\n",
              "      <td>526900.0</td>\n",
              "      <td>177530.0</td>\n",
              "      <td>-0.173862</td>\n",
              "      <td>51.482442</td>\n",
              "      <td>1</td>\n",
              "      <td>3</td>\n",
              "      <td>1</td>\n",
              "      <td>1</td>\n",
              "      <td>07/01/2005</td>\n",
              "      <td>6</td>\n",
              "      <td>10:35</td>\n",
              "      <td>12</td>\n",
              "      <td>E09000020</td>\n",
              "      <td>3</td>\n",
              "      <td>3220</td>\n",
              "      <td>6</td>\n",
              "      <td>30</td>\n",
              "      <td>0</td>\n",
              "      <td>-1</td>\n",
              "      <td>-1</td>\n",
              "      <td>0</td>\n",
              "      <td>0</td>\n",
              "      <td>0</td>\n",
              "      <td>1</td>\n",
              "      <td>1</td>\n",
              "      <td>1</td>\n",
              "      <td>0</td>\n",
              "      <td>0</td>\n",
              "      <td>1</td>\n",
              "      <td>1</td>\n",
              "      <td>E01002840</td>\n",
              "    </tr>\n",
              "    <tr>\n",
              "      <th>4</th>\n",
              "      <td>200501BS00005</td>\n",
              "      <td>528060.0</td>\n",
              "      <td>179040.0</td>\n",
              "      <td>-0.156618</td>\n",
              "      <td>51.495752</td>\n",
              "      <td>1</td>\n",
              "      <td>3</td>\n",
              "      <td>1</td>\n",
              "      <td>1</td>\n",
              "      <td>10/01/2005</td>\n",
              "      <td>2</td>\n",
              "      <td>21:13</td>\n",
              "      <td>12</td>\n",
              "      <td>E09000020</td>\n",
              "      <td>6</td>\n",
              "      <td>0</td>\n",
              "      <td>6</td>\n",
              "      <td>30</td>\n",
              "      <td>0</td>\n",
              "      <td>-1</td>\n",
              "      <td>-1</td>\n",
              "      <td>0</td>\n",
              "      <td>0</td>\n",
              "      <td>0</td>\n",
              "      <td>7</td>\n",
              "      <td>1</td>\n",
              "      <td>2</td>\n",
              "      <td>0</td>\n",
              "      <td>0</td>\n",
              "      <td>1</td>\n",
              "      <td>1</td>\n",
              "      <td>E01002863</td>\n",
              "    </tr>\n",
              "  </tbody>\n",
              "</table>\n",
              "</div>"
            ],
            "text/plain": [
              "  Accident_Index  ...  LSOA_of_Accident_Location\n",
              "0  200501BS00001  ...                  E01002849\n",
              "1  200501BS00002  ...                  E01002909\n",
              "2  200501BS00003  ...                  E01002857\n",
              "3  200501BS00004  ...                  E01002840\n",
              "4  200501BS00005  ...                  E01002863\n",
              "\n",
              "[5 rows x 32 columns]"
            ]
          },
          "execution_count": 3,
          "metadata": {},
          "output_type": "execute_result"
        }
      ]
    },
    {
      "cell_type": "code",
      "metadata": {
        "colab": {
          "base_uri": "https://localhost:8080/",
          "height": 272
        },
        "id": "SDXzXg9uAfrF",
        "outputId": "78a3cf69-c1c3-487a-cae6-11bf580da538"
      },
      "source": [
        "pf = pd.read_csv(\"Vehicles0515.csv\", error_bad_lines=False,index_col='Accident_Index',warn_bad_lines=False)\n",
        "pf.head()"
      ],
      "execution_count": null,
      "outputs": [
        {
          "data": {
            "text/html": [
              "<div>\n",
              "<style scoped>\n",
              "    .dataframe tbody tr th:only-of-type {\n",
              "        vertical-align: middle;\n",
              "    }\n",
              "\n",
              "    .dataframe tbody tr th {\n",
              "        vertical-align: top;\n",
              "    }\n",
              "\n",
              "    .dataframe thead th {\n",
              "        text-align: right;\n",
              "    }\n",
              "</style>\n",
              "<table border=\"1\" class=\"dataframe\">\n",
              "  <thead>\n",
              "    <tr style=\"text-align: right;\">\n",
              "      <th></th>\n",
              "      <th>Vehicle_Reference</th>\n",
              "      <th>Vehicle_Type</th>\n",
              "      <th>Towing_and_Articulation</th>\n",
              "      <th>Vehicle_Manoeuvre</th>\n",
              "      <th>Vehicle_Location-Restricted_Lane</th>\n",
              "      <th>Junction_Location</th>\n",
              "      <th>Skidding_and_Overturning</th>\n",
              "      <th>Hit_Object_in_Carriageway</th>\n",
              "      <th>Vehicle_Leaving_Carriageway</th>\n",
              "      <th>Hit_Object_off_Carriageway</th>\n",
              "      <th>1st_Point_of_Impact</th>\n",
              "      <th>Was_Vehicle_Left_Hand_Drive?</th>\n",
              "      <th>Journey_Purpose_of_Driver</th>\n",
              "      <th>Sex_of_Driver</th>\n",
              "      <th>Age_of_Driver</th>\n",
              "      <th>Age_Band_of_Driver</th>\n",
              "      <th>Engine_Capacity_(CC)</th>\n",
              "      <th>Propulsion_Code</th>\n",
              "      <th>Age_of_Vehicle</th>\n",
              "      <th>Driver_IMD_Decile</th>\n",
              "      <th>Driver_Home_Area_Type</th>\n",
              "    </tr>\n",
              "    <tr>\n",
              "      <th>Accident_Index</th>\n",
              "      <th></th>\n",
              "      <th></th>\n",
              "      <th></th>\n",
              "      <th></th>\n",
              "      <th></th>\n",
              "      <th></th>\n",
              "      <th></th>\n",
              "      <th></th>\n",
              "      <th></th>\n",
              "      <th></th>\n",
              "      <th></th>\n",
              "      <th></th>\n",
              "      <th></th>\n",
              "      <th></th>\n",
              "      <th></th>\n",
              "      <th></th>\n",
              "      <th></th>\n",
              "      <th></th>\n",
              "      <th></th>\n",
              "      <th></th>\n",
              "      <th></th>\n",
              "    </tr>\n",
              "  </thead>\n",
              "  <tbody>\n",
              "    <tr>\n",
              "      <th>200501BS00001</th>\n",
              "      <td>1</td>\n",
              "      <td>9</td>\n",
              "      <td>0</td>\n",
              "      <td>18</td>\n",
              "      <td>0</td>\n",
              "      <td>0</td>\n",
              "      <td>0</td>\n",
              "      <td>0</td>\n",
              "      <td>0</td>\n",
              "      <td>0</td>\n",
              "      <td>1</td>\n",
              "      <td>1</td>\n",
              "      <td>15</td>\n",
              "      <td>2</td>\n",
              "      <td>74</td>\n",
              "      <td>10</td>\n",
              "      <td>-1</td>\n",
              "      <td>-1</td>\n",
              "      <td>-1</td>\n",
              "      <td>7</td>\n",
              "      <td>1</td>\n",
              "    </tr>\n",
              "    <tr>\n",
              "      <th>200501BS00002</th>\n",
              "      <td>1</td>\n",
              "      <td>11</td>\n",
              "      <td>0</td>\n",
              "      <td>4</td>\n",
              "      <td>0</td>\n",
              "      <td>3</td>\n",
              "      <td>0</td>\n",
              "      <td>0</td>\n",
              "      <td>0</td>\n",
              "      <td>0</td>\n",
              "      <td>4</td>\n",
              "      <td>1</td>\n",
              "      <td>1</td>\n",
              "      <td>1</td>\n",
              "      <td>42</td>\n",
              "      <td>7</td>\n",
              "      <td>8268</td>\n",
              "      <td>2</td>\n",
              "      <td>3</td>\n",
              "      <td>-1</td>\n",
              "      <td>-1</td>\n",
              "    </tr>\n",
              "    <tr>\n",
              "      <th>200501BS00003</th>\n",
              "      <td>1</td>\n",
              "      <td>11</td>\n",
              "      <td>0</td>\n",
              "      <td>17</td>\n",
              "      <td>0</td>\n",
              "      <td>0</td>\n",
              "      <td>0</td>\n",
              "      <td>4</td>\n",
              "      <td>0</td>\n",
              "      <td>0</td>\n",
              "      <td>4</td>\n",
              "      <td>1</td>\n",
              "      <td>1</td>\n",
              "      <td>1</td>\n",
              "      <td>35</td>\n",
              "      <td>6</td>\n",
              "      <td>8300</td>\n",
              "      <td>2</td>\n",
              "      <td>5</td>\n",
              "      <td>2</td>\n",
              "      <td>1</td>\n",
              "    </tr>\n",
              "    <tr>\n",
              "      <th>200501BS00003</th>\n",
              "      <td>2</td>\n",
              "      <td>9</td>\n",
              "      <td>0</td>\n",
              "      <td>2</td>\n",
              "      <td>0</td>\n",
              "      <td>0</td>\n",
              "      <td>0</td>\n",
              "      <td>0</td>\n",
              "      <td>0</td>\n",
              "      <td>0</td>\n",
              "      <td>3</td>\n",
              "      <td>1</td>\n",
              "      <td>15</td>\n",
              "      <td>1</td>\n",
              "      <td>62</td>\n",
              "      <td>9</td>\n",
              "      <td>1762</td>\n",
              "      <td>1</td>\n",
              "      <td>6</td>\n",
              "      <td>1</td>\n",
              "      <td>1</td>\n",
              "    </tr>\n",
              "    <tr>\n",
              "      <th>200501BS00004</th>\n",
              "      <td>1</td>\n",
              "      <td>9</td>\n",
              "      <td>0</td>\n",
              "      <td>18</td>\n",
              "      <td>0</td>\n",
              "      <td>0</td>\n",
              "      <td>0</td>\n",
              "      <td>0</td>\n",
              "      <td>0</td>\n",
              "      <td>0</td>\n",
              "      <td>1</td>\n",
              "      <td>1</td>\n",
              "      <td>15</td>\n",
              "      <td>2</td>\n",
              "      <td>49</td>\n",
              "      <td>8</td>\n",
              "      <td>1769</td>\n",
              "      <td>1</td>\n",
              "      <td>4</td>\n",
              "      <td>2</td>\n",
              "      <td>1</td>\n",
              "    </tr>\n",
              "  </tbody>\n",
              "</table>\n",
              "</div>"
            ],
            "text/plain": [
              "                Vehicle_Reference  ...  Driver_Home_Area_Type\n",
              "Accident_Index                     ...                       \n",
              "200501BS00001                   1  ...                      1\n",
              "200501BS00002                   1  ...                     -1\n",
              "200501BS00003                   1  ...                      1\n",
              "200501BS00003                   2  ...                      1\n",
              "200501BS00004                   1  ...                      1\n",
              "\n",
              "[5 rows x 21 columns]"
            ]
          },
          "execution_count": 4,
          "metadata": {},
          "output_type": "execute_result"
        }
      ]
    },
    {
      "cell_type": "code",
      "metadata": {
        "colab": {
          "base_uri": "https://localhost:8080/"
        },
        "id": "uqCBU5B2A6ob",
        "outputId": "f3b97f90-7ff7-4a10-8b59-ae2fa4370561"
      },
      "source": [
        "pf = pd.read_csv(\"Casualties0515.csv\", error_bad_lines=False,index_col='Accident_Index',warn_bad_lines=False)\n",
        "pf.head()"
      ],
      "execution_count": null,
      "outputs": [
        {
          "data": {
            "text/html": [
              "<div>\n",
              "<style scoped>\n",
              "    .dataframe tbody tr th:only-of-type {\n",
              "        vertical-align: middle;\n",
              "    }\n",
              "\n",
              "    .dataframe tbody tr th {\n",
              "        vertical-align: top;\n",
              "    }\n",
              "\n",
              "    .dataframe thead th {\n",
              "        text-align: right;\n",
              "    }\n",
              "</style>\n",
              "<table border=\"1\" class=\"dataframe\">\n",
              "  <thead>\n",
              "    <tr style=\"text-align: right;\">\n",
              "      <th></th>\n",
              "      <th>Vehicle_Reference</th>\n",
              "      <th>Casualty_Reference</th>\n",
              "      <th>Casualty_Class</th>\n",
              "      <th>Sex_of_Casualty</th>\n",
              "      <th>Age_of_Casualty</th>\n",
              "      <th>Age_Band_of_Casualty</th>\n",
              "      <th>Casualty_Severity</th>\n",
              "      <th>Pedestrian_Location</th>\n",
              "      <th>Pedestrian_Movement</th>\n",
              "      <th>Car_Passenger</th>\n",
              "      <th>Bus_or_Coach_Passenger</th>\n",
              "      <th>Pedestrian_Road_Maintenance_Worker</th>\n",
              "      <th>Casualty_Type</th>\n",
              "      <th>Casualty_Home_Area_Type</th>\n",
              "    </tr>\n",
              "    <tr>\n",
              "      <th>Accident_Index</th>\n",
              "      <th></th>\n",
              "      <th></th>\n",
              "      <th></th>\n",
              "      <th></th>\n",
              "      <th></th>\n",
              "      <th></th>\n",
              "      <th></th>\n",
              "      <th></th>\n",
              "      <th></th>\n",
              "      <th></th>\n",
              "      <th></th>\n",
              "      <th></th>\n",
              "      <th></th>\n",
              "      <th></th>\n",
              "    </tr>\n",
              "  </thead>\n",
              "  <tbody>\n",
              "    <tr>\n",
              "      <th>200501BS00001</th>\n",
              "      <td>1</td>\n",
              "      <td>1</td>\n",
              "      <td>3</td>\n",
              "      <td>1</td>\n",
              "      <td>37</td>\n",
              "      <td>7</td>\n",
              "      <td>2</td>\n",
              "      <td>1</td>\n",
              "      <td>1</td>\n",
              "      <td>0</td>\n",
              "      <td>0</td>\n",
              "      <td>-1</td>\n",
              "      <td>0</td>\n",
              "      <td>1</td>\n",
              "    </tr>\n",
              "    <tr>\n",
              "      <th>200501BS00002</th>\n",
              "      <td>1</td>\n",
              "      <td>1</td>\n",
              "      <td>2</td>\n",
              "      <td>1</td>\n",
              "      <td>37</td>\n",
              "      <td>7</td>\n",
              "      <td>3</td>\n",
              "      <td>0</td>\n",
              "      <td>0</td>\n",
              "      <td>0</td>\n",
              "      <td>4</td>\n",
              "      <td>-1</td>\n",
              "      <td>11</td>\n",
              "      <td>1</td>\n",
              "    </tr>\n",
              "    <tr>\n",
              "      <th>200501BS00003</th>\n",
              "      <td>2</td>\n",
              "      <td>1</td>\n",
              "      <td>1</td>\n",
              "      <td>1</td>\n",
              "      <td>62</td>\n",
              "      <td>9</td>\n",
              "      <td>3</td>\n",
              "      <td>0</td>\n",
              "      <td>0</td>\n",
              "      <td>0</td>\n",
              "      <td>0</td>\n",
              "      <td>-1</td>\n",
              "      <td>9</td>\n",
              "      <td>1</td>\n",
              "    </tr>\n",
              "    <tr>\n",
              "      <th>200501BS00004</th>\n",
              "      <td>1</td>\n",
              "      <td>1</td>\n",
              "      <td>3</td>\n",
              "      <td>1</td>\n",
              "      <td>30</td>\n",
              "      <td>6</td>\n",
              "      <td>3</td>\n",
              "      <td>5</td>\n",
              "      <td>2</td>\n",
              "      <td>0</td>\n",
              "      <td>0</td>\n",
              "      <td>-1</td>\n",
              "      <td>0</td>\n",
              "      <td>1</td>\n",
              "    </tr>\n",
              "    <tr>\n",
              "      <th>200501BS00005</th>\n",
              "      <td>1</td>\n",
              "      <td>1</td>\n",
              "      <td>1</td>\n",
              "      <td>1</td>\n",
              "      <td>49</td>\n",
              "      <td>8</td>\n",
              "      <td>3</td>\n",
              "      <td>0</td>\n",
              "      <td>0</td>\n",
              "      <td>0</td>\n",
              "      <td>0</td>\n",
              "      <td>-1</td>\n",
              "      <td>3</td>\n",
              "      <td>-1</td>\n",
              "    </tr>\n",
              "  </tbody>\n",
              "</table>\n",
              "</div>"
            ],
            "text/plain": [
              "                Vehicle_Reference  ...  Casualty_Home_Area_Type\n",
              "Accident_Index                     ...                         \n",
              "200501BS00001                   1  ...                        1\n",
              "200501BS00002                   1  ...                        1\n",
              "200501BS00003                   2  ...                        1\n",
              "200501BS00004                   1  ...                        1\n",
              "200501BS00005                   1  ...                       -1\n",
              "\n",
              "[5 rows x 14 columns]"
            ]
          },
          "execution_count": 5,
          "metadata": {},
          "output_type": "execute_result"
        }
      ]
    },
    {
      "cell_type": "code",
      "metadata": {
        "colab": {
          "base_uri": "https://localhost:8080/"
        },
        "id": "UkDw5kfk0q_N",
        "outputId": "79ec1c9f-6ec7-4ed4-f908-4c5aa0688201"
      },
      "source": [
        "df.duplicated().sum()"
      ],
      "execution_count": null,
      "outputs": [
        {
          "data": {
            "text/plain": [
              "0"
            ]
          },
          "execution_count": 6,
          "metadata": {},
          "output_type": "execute_result"
        }
      ]
    },
    {
      "cell_type": "code",
      "metadata": {
        "colab": {
          "base_uri": "https://localhost:8080/"
        },
        "id": "Qeb2IAgI0sr_",
        "outputId": "3961f9f2-f77e-4f86-dfab-6280ea33b9f1"
      },
      "source": [
        "df.isnull().sum()"
      ],
      "execution_count": null,
      "outputs": [
        {
          "data": {
            "text/plain": [
              "Accident_Index                                      0\n",
              "Location_Easting_OSGR                             138\n",
              "Location_Northing_OSGR                            138\n",
              "Longitude                                         138\n",
              "Latitude                                          138\n",
              "Police_Force                                        0\n",
              "Accident_Severity                                   0\n",
              "Number_of_Vehicles                                  0\n",
              "Number_of_Casualties                                0\n",
              "Date                                                0\n",
              "Day_of_Week                                         0\n",
              "Time                                              151\n",
              "Local_Authority_(District)                          0\n",
              "Local_Authority_(Highway)                           0\n",
              "1st_Road_Class                                      0\n",
              "1st_Road_Number                                     0\n",
              "Road_Type                                           0\n",
              "Speed_limit                                         0\n",
              "Junction_Detail                                     0\n",
              "Junction_Control                                    0\n",
              "2nd_Road_Class                                      0\n",
              "2nd_Road_Number                                     0\n",
              "Pedestrian_Crossing-Human_Control                   0\n",
              "Pedestrian_Crossing-Physical_Facilities             0\n",
              "Light_Conditions                                    0\n",
              "Weather_Conditions                                  0\n",
              "Road_Surface_Conditions                             0\n",
              "Special_Conditions_at_Site                          0\n",
              "Carriageway_Hazards                                 0\n",
              "Urban_or_Rural_Area                                 0\n",
              "Did_Police_Officer_Attend_Scene_of_Accident         0\n",
              "LSOA_of_Accident_Location                      129471\n",
              "dtype: int64"
            ]
          },
          "execution_count": 7,
          "metadata": {},
          "output_type": "execute_result"
        }
      ]
    },
    {
      "cell_type": "markdown",
      "metadata": {
        "id": "Q7zr6AHBx-vp"
      },
      "source": [
        "# **PROCESSING DATA**"
      ]
    },
    {
      "cell_type": "code",
      "metadata": {
        "colab": {
          "base_uri": "https://localhost:8080/"
        },
        "id": "-4_8Lhrjy4O4",
        "outputId": "8a846d24-1660-49ca-ff0e-2f22a6f5a664"
      },
      "source": [
        "#Rút gọn data frame, chỉ giữ lại các thuộc tính cần thiết (thiếu cột nào thì thêm vào).\n",
        "df = df[['Police_Force', 'Accident_Severity', 'Number_of_Vehicles', 'Number_of_Casualties', 'Day_of_Week', 'Time', 'Local_Authority_(District)', 'Road_Type', 'Speed_limit', 'Light_Conditions', 'Weather_Conditions', 'Road_Surface_Conditions', 'Special_Conditions_at_Site', 'Carriageway_Hazards', 'Urban_or_Rural_Area']]\n",
        "df.head()"
      ],
      "execution_count": null,
      "outputs": [
        {
          "data": {
            "text/html": [
              "<div>\n",
              "<style scoped>\n",
              "    .dataframe tbody tr th:only-of-type {\n",
              "        vertical-align: middle;\n",
              "    }\n",
              "\n",
              "    .dataframe tbody tr th {\n",
              "        vertical-align: top;\n",
              "    }\n",
              "\n",
              "    .dataframe thead th {\n",
              "        text-align: right;\n",
              "    }\n",
              "</style>\n",
              "<table border=\"1\" class=\"dataframe\">\n",
              "  <thead>\n",
              "    <tr style=\"text-align: right;\">\n",
              "      <th></th>\n",
              "      <th>Police_Force</th>\n",
              "      <th>Accident_Severity</th>\n",
              "      <th>Number_of_Vehicles</th>\n",
              "      <th>Number_of_Casualties</th>\n",
              "      <th>Day_of_Week</th>\n",
              "      <th>Time</th>\n",
              "      <th>Local_Authority_(District)</th>\n",
              "      <th>Road_Type</th>\n",
              "      <th>Speed_limit</th>\n",
              "      <th>Light_Conditions</th>\n",
              "      <th>Weather_Conditions</th>\n",
              "      <th>Road_Surface_Conditions</th>\n",
              "      <th>Special_Conditions_at_Site</th>\n",
              "      <th>Carriageway_Hazards</th>\n",
              "      <th>Urban_or_Rural_Area</th>\n",
              "    </tr>\n",
              "  </thead>\n",
              "  <tbody>\n",
              "    <tr>\n",
              "      <th>0</th>\n",
              "      <td>1</td>\n",
              "      <td>2</td>\n",
              "      <td>1</td>\n",
              "      <td>1</td>\n",
              "      <td>3</td>\n",
              "      <td>17:42</td>\n",
              "      <td>12</td>\n",
              "      <td>6</td>\n",
              "      <td>30</td>\n",
              "      <td>1</td>\n",
              "      <td>2</td>\n",
              "      <td>2</td>\n",
              "      <td>0</td>\n",
              "      <td>0</td>\n",
              "      <td>1</td>\n",
              "    </tr>\n",
              "    <tr>\n",
              "      <th>1</th>\n",
              "      <td>1</td>\n",
              "      <td>3</td>\n",
              "      <td>1</td>\n",
              "      <td>1</td>\n",
              "      <td>4</td>\n",
              "      <td>17:36</td>\n",
              "      <td>12</td>\n",
              "      <td>3</td>\n",
              "      <td>30</td>\n",
              "      <td>4</td>\n",
              "      <td>1</td>\n",
              "      <td>1</td>\n",
              "      <td>0</td>\n",
              "      <td>0</td>\n",
              "      <td>1</td>\n",
              "    </tr>\n",
              "    <tr>\n",
              "      <th>2</th>\n",
              "      <td>1</td>\n",
              "      <td>3</td>\n",
              "      <td>2</td>\n",
              "      <td>1</td>\n",
              "      <td>5</td>\n",
              "      <td>00:15</td>\n",
              "      <td>12</td>\n",
              "      <td>6</td>\n",
              "      <td>30</td>\n",
              "      <td>4</td>\n",
              "      <td>1</td>\n",
              "      <td>1</td>\n",
              "      <td>0</td>\n",
              "      <td>0</td>\n",
              "      <td>1</td>\n",
              "    </tr>\n",
              "    <tr>\n",
              "      <th>3</th>\n",
              "      <td>1</td>\n",
              "      <td>3</td>\n",
              "      <td>1</td>\n",
              "      <td>1</td>\n",
              "      <td>6</td>\n",
              "      <td>10:35</td>\n",
              "      <td>12</td>\n",
              "      <td>6</td>\n",
              "      <td>30</td>\n",
              "      <td>1</td>\n",
              "      <td>1</td>\n",
              "      <td>1</td>\n",
              "      <td>0</td>\n",
              "      <td>0</td>\n",
              "      <td>1</td>\n",
              "    </tr>\n",
              "    <tr>\n",
              "      <th>4</th>\n",
              "      <td>1</td>\n",
              "      <td>3</td>\n",
              "      <td>1</td>\n",
              "      <td>1</td>\n",
              "      <td>2</td>\n",
              "      <td>21:13</td>\n",
              "      <td>12</td>\n",
              "      <td>6</td>\n",
              "      <td>30</td>\n",
              "      <td>7</td>\n",
              "      <td>1</td>\n",
              "      <td>2</td>\n",
              "      <td>0</td>\n",
              "      <td>0</td>\n",
              "      <td>1</td>\n",
              "    </tr>\n",
              "  </tbody>\n",
              "</table>\n",
              "</div>"
            ],
            "text/plain": [
              "   Police_Force  Accident_Severity  ...  Carriageway_Hazards  Urban_or_Rural_Area\n",
              "0             1                  2  ...                    0                    1\n",
              "1             1                  3  ...                    0                    1\n",
              "2             1                  3  ...                    0                    1\n",
              "3             1                  3  ...                    0                    1\n",
              "4             1                  3  ...                    0                    1\n",
              "\n",
              "[5 rows x 15 columns]"
            ]
          },
          "execution_count": 8,
          "metadata": {},
          "output_type": "execute_result"
        }
      ]
    },
    {
      "cell_type": "code",
      "metadata": {
        "colab": {
          "base_uri": "https://localhost:8080/"
        },
        "id": "LkIDiJ-xz9aC",
        "outputId": "a2fa4c57-f4c1-43f6-8779-ae7f914976fb"
      },
      "source": [
        "df.info()"
      ],
      "execution_count": null,
      "outputs": [
        {
          "name": "stdout",
          "output_type": "stream",
          "text": [
            "<class 'pandas.core.frame.DataFrame'>\n",
            "RangeIndex: 1780653 entries, 0 to 1780652\n",
            "Data columns (total 15 columns):\n",
            " #   Column                      Dtype \n",
            "---  ------                      ----- \n",
            " 0   Police_Force                int64 \n",
            " 1   Accident_Severity           int64 \n",
            " 2   Number_of_Vehicles          int64 \n",
            " 3   Number_of_Casualties        int64 \n",
            " 4   Day_of_Week                 int64 \n",
            " 5   Time                        object\n",
            " 6   Local_Authority_(District)  int64 \n",
            " 7   Road_Type                   int64 \n",
            " 8   Speed_limit                 int64 \n",
            " 9   Light_Conditions            int64 \n",
            " 10  Weather_Conditions          int64 \n",
            " 11  Road_Surface_Conditions     int64 \n",
            " 12  Special_Conditions_at_Site  int64 \n",
            " 13  Carriageway_Hazards         int64 \n",
            " 14  Urban_or_Rural_Area         int64 \n",
            "dtypes: int64(14), object(1)\n",
            "memory usage: 203.8+ MB\n"
          ]
        }
      ]
    },
    {
      "cell_type": "code",
      "metadata": {
        "colab": {
          "base_uri": "https://localhost:8080/"
        },
        "id": "oJ49JR3E0Cc_",
        "outputId": "e6cef7b3-abe5-4ef0-e018-1fbda7af29c6"
      },
      "source": [
        "df.isnull().sum()"
      ],
      "execution_count": null,
      "outputs": [
        {
          "data": {
            "text/plain": [
              "Police_Force                    0\n",
              "Accident_Severity               0\n",
              "Number_of_Vehicles              0\n",
              "Number_of_Casualties            0\n",
              "Day_of_Week                     0\n",
              "Time                          151\n",
              "Local_Authority_(District)      0\n",
              "Road_Type                       0\n",
              "Speed_limit                     0\n",
              "Light_Conditions                0\n",
              "Weather_Conditions              0\n",
              "Road_Surface_Conditions         0\n",
              "Special_Conditions_at_Site      0\n",
              "Carriageway_Hazards             0\n",
              "Urban_or_Rural_Area             0\n",
              "dtype: int64"
            ]
          },
          "execution_count": 10,
          "metadata": {},
          "output_type": "execute_result"
        }
      ]
    },
    {
      "cell_type": "code",
      "metadata": {
        "id": "qKaU7KU_0JEQ"
      },
      "source": [
        "#Dữ liệu không cần điền khuyết\n",
        "df.hist(bins = 50, figsize = (20,15))\n",
        "plt.show()"
      ],
      "execution_count": null,
      "outputs": []
    },
    {
      "cell_type": "code",
      "metadata": {
        "colab": {
          "background_save": true
        },
        "id": "m30pTwl_1c8L"
      },
      "source": [
        "#IDENTIFYING MISSING VALUES\n",
        "#Trong tập dữ liệu có hai loại giá trị bị thiếu '-1' và 'Nan'. Sẽ bỏ qua các dòng lỗi, thay vì đặt giá trị vì tập dữ liệu đủ lớn để phân tích.\n",
        "Accidents = pd.read_csv(\"Accidents0515.csv\", index_col ='Accident_Index');\n",
        "Casualties = pd.read_csv(\"Casualties0515.csv\", error_bad_lines = False, index_col = 'Accident_Index', warn_bad_lines = False)\n",
        "\n",
        "#Thêm các thuộc tính từ file Vehicle\n",
        "Vehicles=pd.read_csv('Vehicles0515.csv', error_bad_lines=False,index_col='Accident_Index',warn_bad_lines=False)\n",
        "Accidents = Accidents.join(Vehicles, how='outer')\n",
        "\n",
        "Accidents.drop(['Location_Easting_OSGR', 'Location_Northing_OSGR', 'LSOA_of_Accident_Location', 'Junction_Control' , '2nd_Road_Class'], axis = 1, inplace = True)\n",
        "Accidents['Date_time'] =  Accidents['Date'] +' '+ Accidents['Time']\n",
        "for col in Accidents.columns:\n",
        "    Accidents = (Accidents[Accidents[col]!=-1])\n",
        "for col in Casualties.columns:\n",
        "    Casualties = (Casualties[Casualties[col]!=-1])\n",
        "Accidents['Date_time'] = pd.to_datetime(Accidents.Date_time)\n",
        "Accidents.drop(['Date','Time'],axis =1 , inplace=True)\n",
        "Accidents.dropna(inplace=True)"
      ],
      "execution_count": null,
      "outputs": []
    },
    {
      "cell_type": "markdown",
      "metadata": {
        "id": "O7B6V7v_-ZmO"
      },
      "source": [
        "# **1. KHU VỰC (DISTRICT) HAY XẢY RA TAI NẠN NHẤT**"
      ]
    },
    {
      "cell_type": "code",
      "metadata": {
        "colab": {
          "background_save": true
        },
        "id": "iseAQwaTJ4Tf",
        "outputId": "3e849461-eeca-406b-a317-a30e69522e0b"
      },
      "source": [
        "#Đọc dữ liệu các thành phố xảy ra tai nạn ở Anh\n",
        "Local_Authority_District = pd.read_csv(\"contextCSVs/Local_Authority_District.csv\");\n",
        "Local_Authority_District.rename(columns={'label':'District'}, inplace=True)\n",
        "Local_Authority_District.head()"
      ],
      "execution_count": null,
      "outputs": [
        {
          "data": {
            "text/html": [
              "<div>\n",
              "<style scoped>\n",
              "    .dataframe tbody tr th:only-of-type {\n",
              "        vertical-align: middle;\n",
              "    }\n",
              "\n",
              "    .dataframe tbody tr th {\n",
              "        vertical-align: top;\n",
              "    }\n",
              "\n",
              "    .dataframe thead th {\n",
              "        text-align: right;\n",
              "    }\n",
              "</style>\n",
              "<table border=\"1\" class=\"dataframe\">\n",
              "  <thead>\n",
              "    <tr style=\"text-align: right;\">\n",
              "      <th></th>\n",
              "      <th>code</th>\n",
              "      <th>District</th>\n",
              "    </tr>\n",
              "  </thead>\n",
              "  <tbody>\n",
              "    <tr>\n",
              "      <th>0</th>\n",
              "      <td>1</td>\n",
              "      <td>Westminster</td>\n",
              "    </tr>\n",
              "    <tr>\n",
              "      <th>1</th>\n",
              "      <td>2</td>\n",
              "      <td>Camden</td>\n",
              "    </tr>\n",
              "    <tr>\n",
              "      <th>2</th>\n",
              "      <td>3</td>\n",
              "      <td>Islington</td>\n",
              "    </tr>\n",
              "    <tr>\n",
              "      <th>3</th>\n",
              "      <td>4</td>\n",
              "      <td>Hackney</td>\n",
              "    </tr>\n",
              "    <tr>\n",
              "      <th>4</th>\n",
              "      <td>5</td>\n",
              "      <td>Tower Hamlets</td>\n",
              "    </tr>\n",
              "  </tbody>\n",
              "</table>\n",
              "</div>"
            ],
            "text/plain": [
              "   code       District\n",
              "0     1    Westminster\n",
              "1     2         Camden\n",
              "2     3      Islington\n",
              "3     4        Hackney\n",
              "4     5  Tower Hamlets"
            ]
          },
          "execution_count": null,
          "metadata": {},
          "output_type": "execute_result"
        }
      ]
    },
    {
      "cell_type": "code",
      "metadata": {
        "colab": {
          "background_save": true
        },
        "id": "xOy72FyeBLlo",
        "outputId": "24a2a494-4565-48c4-a95a-50f74316d743"
      },
      "source": [
        "#Đếm số tai nạn của các thành phố ở Anh từ năm 2005 đến năm 2015\n",
        "district_acidient_df = Accidents.groupby([\"Local_Authority_(District)\"])[\"Local_Authority_(District)\"].agg([\"count\"]).reset_index()\n",
        "district_acidient_df.rename(columns={'count':'total_accident'}, inplace=True)\n",
        "joinDistrict = district_acidient_df.set_index('Local_Authority_(District)').join(Local_Authority_District.set_index('code')).sort_values(by='total_accident').reset_index()\n",
        "joinDistrict"
      ],
      "execution_count": null,
      "outputs": [
        {
          "data": {
            "text/html": [
              "<div>\n",
              "<style scoped>\n",
              "    .dataframe tbody tr th:only-of-type {\n",
              "        vertical-align: middle;\n",
              "    }\n",
              "\n",
              "    .dataframe tbody tr th {\n",
              "        vertical-align: top;\n",
              "    }\n",
              "\n",
              "    .dataframe thead th {\n",
              "        text-align: right;\n",
              "    }\n",
              "</style>\n",
              "<table border=\"1\" class=\"dataframe\">\n",
              "  <thead>\n",
              "    <tr style=\"text-align: right;\">\n",
              "      <th></th>\n",
              "      <th>Local_Authority_(District)</th>\n",
              "      <th>total_accident</th>\n",
              "      <th>District</th>\n",
              "    </tr>\n",
              "  </thead>\n",
              "  <tbody>\n",
              "    <tr>\n",
              "      <th>0</th>\n",
              "      <td>936</td>\n",
              "      <td>2</td>\n",
              "      <td>Shetland Islands</td>\n",
              "    </tr>\n",
              "    <tr>\n",
              "      <th>1</th>\n",
              "      <td>922</td>\n",
              "      <td>5</td>\n",
              "      <td>East Renfrewshire</td>\n",
              "    </tr>\n",
              "    <tr>\n",
              "      <th>2</th>\n",
              "      <td>933</td>\n",
              "      <td>6</td>\n",
              "      <td>Orkney Islands</td>\n",
              "    </tr>\n",
              "    <tr>\n",
              "      <th>3</th>\n",
              "      <td>928</td>\n",
              "      <td>8</td>\n",
              "      <td>Inverclyde</td>\n",
              "    </tr>\n",
              "    <tr>\n",
              "      <th>4</th>\n",
              "      <td>941</td>\n",
              "      <td>9</td>\n",
              "      <td>Western Isles</td>\n",
              "    </tr>\n",
              "    <tr>\n",
              "      <th>...</th>\n",
              "      <td>...</td>\n",
              "      <td>...</td>\n",
              "      <td>...</td>\n",
              "    </tr>\n",
              "    <tr>\n",
              "      <th>411</th>\n",
              "      <td>102</td>\n",
              "      <td>15211</td>\n",
              "      <td>Manchester</td>\n",
              "    </tr>\n",
              "    <tr>\n",
              "      <th>412</th>\n",
              "      <td>200</td>\n",
              "      <td>15820</td>\n",
              "      <td>Bradford</td>\n",
              "    </tr>\n",
              "    <tr>\n",
              "      <th>413</th>\n",
              "      <td>215</td>\n",
              "      <td>16713</td>\n",
              "      <td>Sheffield</td>\n",
              "    </tr>\n",
              "    <tr>\n",
              "      <th>414</th>\n",
              "      <td>204</td>\n",
              "      <td>22586</td>\n",
              "      <td>Leeds</td>\n",
              "    </tr>\n",
              "    <tr>\n",
              "      <th>415</th>\n",
              "      <td>300</td>\n",
              "      <td>35519</td>\n",
              "      <td>Birmingham</td>\n",
              "    </tr>\n",
              "  </tbody>\n",
              "</table>\n",
              "<p>416 rows × 3 columns</p>\n",
              "</div>"
            ],
            "text/plain": [
              "     Local_Authority_(District)  total_accident           District\n",
              "0                           936               2   Shetland Islands\n",
              "1                           922               5  East Renfrewshire\n",
              "2                           933               6     Orkney Islands\n",
              "3                           928               8         Inverclyde\n",
              "4                           941               9      Western Isles\n",
              "..                          ...             ...                ...\n",
              "411                         102           15211         Manchester\n",
              "412                         200           15820           Bradford\n",
              "413                         215           16713          Sheffield\n",
              "414                         204           22586              Leeds\n",
              "415                         300           35519         Birmingham\n",
              "\n",
              "[416 rows x 3 columns]"
            ]
          },
          "execution_count": null,
          "metadata": {},
          "output_type": "execute_result"
        }
      ]
    },
    {
      "cell_type": "code",
      "metadata": {
        "colab": {
          "background_save": true
        },
        "id": "Hj9VYOEcSs_7",
        "outputId": "77496664-da2f-4870-d999-97650beb75e7"
      },
      "source": [
        "#Visualize số tai nạn của từng District ở Anh từ năm 2005 đến năm 2015\n",
        "x_District = list(joinDistrict['District'])\n",
        "y_Total_Accident = list(joinDistrict['total_accident'])\n",
        "fig = plt.figure(figsize = (20, 10));\n",
        "plt.bar(x_District, y_Total_Accident);\n",
        "plt.xlabel(\"District\", fontsize = 15)\n",
        "plt.ylabel(\"Total accident count\", fontsize = 20)\n",
        "plt.title(\"ACCIDENT OF DISTRICT\", fontsize = 30)\n",
        "plt.show();\n"
      ],
      "execution_count": null,
      "outputs": [
        {
          "data": {
            "image/png": "[encoded data removed]",
            "text/plain": [
              "<Figure size 1440x720 with 1 Axes>"
            ]
          },
          "metadata": {},
          "output_type": "display_data"
        }
      ]
    },
    {
      "cell_type": "markdown",
      "metadata": {
        "id": "-_6jf_iXOn8f"
      },
      "source": [
        "**KẾT LUẬN**\n",
        "\n",
        "Thành phố Birmingham của Anh là nơi xảy ra tai nạn nhiều nhất"
      ]
    },
    {
      "cell_type": "markdown",
      "metadata": {
        "id": "ROpxc_NohHNi"
      },
      "source": [
        "# **2. TẦN SUẤT TAI NẠN GIAO THÔNG THEO ĐIỀU KIỆN ÁNH SÁNG**"
      ]
    },
    {
      "cell_type": "code",
      "metadata": {
        "colab": {
          "background_save": true
        },
        "id": "OjkkGTt1hSyh",
        "outputId": "6a8bde36-5328-430a-d35f-e83bec6b37e1"
      },
      "source": [
        "plt.figure(figsize = (15,7))\n",
        "ax = sns.countplot('Light_Conditions', data=Accidents, order = Accidents[\"Light_Conditions\"].value_counts().index, palette = \"YlGnBu\") \n",
        "ax.set_xticklabels(['Daylight','Darkness - lights lit', 'Darkness - no lighting', 'Darkness - lighting unknown', 'Darkness - lights unlit'])\n",
        "plt.title('ACCIDENT RATES BASED ON LIGHT CONDITIONS', fontsize = 15)\n",
        "plt.ylabel(\"Frequency\", fontsize = 14)\n",
        "plt.show()"
      ],
      "execution_count": null,
      "outputs": [
        {
          "name": "stderr",
          "output_type": "stream",
          "text": [
            "/usr/local/lib/python3.7/dist-packages/seaborn/_decorators.py:43: FutureWarning: Pass the following variable as a keyword arg: x. From version 0.12, the only valid positional argument will be `data`, and passing other arguments without an explicit keyword will result in an error or misinterpretation.\n",
            "  FutureWarning\n"
          ]
        },
        {
          "data": {
            "image/png": "[encoded data removed]",
            "text/plain": [
              "<Figure size 1080x504 with 1 Axes>"
            ]
          },
          "metadata": {},
          "output_type": "display_data"
        }
      ]
    },
    {
      "cell_type": "markdown",
      "metadata": {
        "id": "fw77nu_xqjdF"
      },
      "source": [
        "**KẾT LUẬN**\n",
        "\n",
        "Tai nạn xảy ra ban ngày tần suất xảy ra cao nhất. Lý do ban ngày mọi người chủ quan hơn vì có ánh sáng đầy đủ, chạy ẩu, không để ý. Trong khi ban đêm sẽ lái chậm và cẩn thận quan sát hơn."
      ]
    },
    {
      "cell_type": "markdown",
      "metadata": {
        "id": "EAt_IysIqA0K"
      },
      "source": [
        "# **3. THỐNG KÊ TAI NẠN THỜI GIAN TRONG 1 NGÀY & CÁC NGÀY TRONG 1 TUẦN**"
      ]
    },
    {
      "cell_type": "code",
      "metadata": {
        "colab": {
          "background_save": true
        },
        "id": "ZPK8vXoxqQ_0",
        "outputId": "9a0ec70b-9984-4b25-d099-41e603486cd9"
      },
      "source": [
        "plt.figure(figsize=(12,6))\n",
        "Accidents.Date_time.dt.dayofweek.hist(bins = 7, rwidth = 0.55, alpha = 0.5, color= 'orange')\n",
        "plt.title('Accidents on the day of a week' , fontsize = 30)\n",
        "plt.grid(False)\n",
        "plt.ylabel('Accident count' , fontsize = 20)\n",
        "plt.xlabel('0 - Sunday ,  1 - Monday  ,2 - Tuesday , 3 - Wednesday , 4 - Thursday , 5 - Friday , 6 - Saturday' , fontsize = 13)"
      ],
      "execution_count": null,
      "outputs": [
        {
          "data": {
            "text/plain": [
              "Text(0.5, 0, '0 - Sunday ,  1 - Monday  ,2 - Tuesday , 3 - Wednesday , 4 - Thursday , 5 - Friday , 6 - Saturday')"
            ]
          },
          "execution_count": null,
          "metadata": {},
          "output_type": "execute_result"
        },
        {
          "data": {
            "image/png": "[encoded data removed]",
            "text/plain": [
              "<Figure size 864x432 with 1 Axes>"
            ]
          },
          "metadata": {},
          "output_type": "display_data"
        }
      ]
    },
    {
      "cell_type": "markdown",
      "metadata": {
        "id": "It4SetOf6mlb"
      },
      "source": [
        "**KẾT LUẬN**\n",
        "\n",
        "Thứ năm có số vụ tai nạn cao nhất trong tập dữ liệu (2005-2015). Số vụ tai nạn có thể phụ thuộc vào lưu lượng giao thông vào ngày cụ thể."
      ]
    },
    {
      "cell_type": "code",
      "metadata": {
        "colab": {
          "background_save": true
        },
        "id": "ZVdalHFd2Ys0",
        "outputId": "f6ba8e44-c56c-4df2-d403-7602323bcb71"
      },
      "source": [
        "plt.figure(figsize=(12,6))\n",
        "Accidents.Date_time.dt.hour.hist(rwidth = 0.75, alpha = 0.50, color = 'orange')\n",
        "plt.title('Time of the day/night',fontsize = 30)\n",
        "plt.grid(False)\n",
        "plt.xlabel('Time 0-23 hours' , fontsize = 20)\n",
        "plt.ylabel('Accident count' , fontsize = 15)"
      ],
      "execution_count": null,
      "outputs": [
        {
          "data": {
            "text/plain": [
              "Text(0, 0.5, 'Accident count')"
            ]
          },
          "execution_count": null,
          "metadata": {},
          "output_type": "execute_result"
        },
        {
          "data": {
            "image/png": "[encoded data removed]",
            "text/plain": [
              "<Figure size 864x432 with 1 Axes>"
            ]
          },
          "metadata": {},
          "output_type": "display_data"
        }
      ]
    },
    {
      "cell_type": "markdown",
      "metadata": {
        "id": "o2YV6AIW6SIR"
      },
      "source": [
        "**KẾT LUẬN**\n",
        "\n",
        "Các vụ tai nạn xảy ra vào khoảng sau buổi trưa. Thời điểm này trong ngày có nhiều phương tiện di chuyển nhất, như đi làm về"
      ]
    },
    {
      "cell_type": "markdown",
      "metadata": {
        "id": "_JChpeM81-P3"
      },
      "source": [
        "# **4. THỐNG KÊ TAI NẠN TRÊN LOẠI ĐƯỜNG**\n"
      ]
    },
    {
      "cell_type": "code",
      "metadata": {
        "colab": {
          "background_save": true
        },
        "id": "2bcP5KQB_tdi",
        "outputId": "e85ddcef-9006-404a-e264-054edb8ee34f"
      },
      "source": [
        "dataset_road_type = df.groupby([\"Road_Type\"])[\"Road_Type\"].agg([\"count\"]);\n",
        "roadType = pd.read_csv('contextCSVs/Road_Type.csv');\n",
        "x = list(roadType['label']);\n",
        "x.pop(len(x)-1);\n",
        "x.pop(len(x)-1);\n",
        "y = list(dataset_road_type['count']);\n",
        "\n",
        "fig = plt.figure(figsize = (12, 6));\n",
        "plt.bar(x, y);\n",
        "plt.xlabel(\"Road Type\", fontsize = 15)\n",
        "plt.ylabel(\"Accident count\", fontsize = 20)\n",
        "plt.title(\"ACCIDENT ON ROAD TYPE\", fontsize = 30)\n",
        "plt.show();\n"
      ],
      "execution_count": null,
      "outputs": [
        {
          "data": {
            "image/png": "[encoded data removed]",
            "text/plain": [
              "<Figure size 864x432 with 1 Axes>"
            ]
          },
          "metadata": {},
          "output_type": "display_data"
        }
      ]
    },
    {
      "cell_type": "markdown",
      "metadata": {
        "id": "uvFnzSwBoDFS"
      },
      "source": [
        "- Roundabout: đường vòng, bùng binh\n",
        "- One way street: đường một chiều\n",
        "- Dual carriageway: đường có dải phân cách giữa 2 làn xe\n",
        "- Single carriageway: đường không có dải phân cách giữa 2 làn xe\n",
        "- Slip road: đường giao lộ ra khỏi cao tốc\n",
        "\n",
        "**KẾT LUẬN**\n",
        "\n",
        "Dựa vào biểu đồ ta thấy được tác động của loại đường với tai nạn giao thông. Nổi trội là loại đường Single carriageway cao hơn gần gấp 3 lần so với các loại đường còn lại"
      ]
    },
    {
      "cell_type": "markdown",
      "metadata": {
        "id": "_2bMh9eotRkm"
      },
      "source": [
        "# **5. THỐNG KÊ TAI NẠN TRÊN TỐC ĐỘ GIỚI HẠN**\n",
        "\n"
      ]
    },
    {
      "cell_type": "code",
      "metadata": {
        "colab": {
          "background_save": true
        },
        "id": "FsdhLL8j4VPx",
        "outputId": "13de1202-08b3-4751-f0e4-be7a3bef8c98"
      },
      "source": [
        "\n",
        "dataset_speed_limit = df.groupby([\"Speed_limit\"])[\"Speed_limit\"].agg([\"count\"]);\n",
        "x_speed_limit = list(dataset_speed_limit.reset_index()['Speed_limit']);\n",
        "y_speed_limit = list(dataset_speed_limit['count']);\n",
        "\n",
        "fig = plt.figure(figsize = (18, 9));\n",
        "plt.bar(x_speed_limit, y_speed_limit,width=8);\n",
        "plt.xlabel(\"Speed Limit\", fontsize = 15)\n",
        "plt.ylabel(\"Accident count\", fontsize = 20)\n",
        "plt.title(\"ACCIDENT ON SPEED LIMIT\", fontsize = 30)\n",
        "plt.show();\n"
      ],
      "execution_count": null,
      "outputs": [
        {
          "data": {
            "image/png": "[encoded data removed]",
            "text/plain": [
              "<Figure size 1296x648 with 1 Axes>"
            ]
          },
          "metadata": {},
          "output_type": "display_data"
        }
      ]
    },
    {
      "cell_type": "markdown",
      "metadata": {
        "id": "ds4U02Gc6LDC"
      },
      "source": [
        "**KẾT LUẬN**\n",
        "\n",
        "Biểu đồ thể hiện sự tương quan giữa tốc độ giới hạn và số vụ tai nạn, với tốc độ giới hạn 30 có số vụ tai nạn nhiều nhất"
      ]
    },
    {
      "cell_type": "markdown",
      "metadata": {
        "id": "CGgMcihlDzWQ"
      },
      "source": [
        "# **6. LOẠI PHƯƠNG TIỆN HAY GÂY TAI NẠN NHẤT**\n",
        "\n"
      ]
    },
    {
      "cell_type": "code",
      "metadata": {
        "colab": {
          "background_save": true
        },
        "id": "Z9G8GTq4EEbg"
      },
      "source": [
        "# Đọc dữ liệu từ tệp thông tin tai nạn và thông tin phương tiện gây ra tai nạn\n",
        "vehicles0515 = pd.read_csv(\"Vehicles0515.csv\", error_bad_lines=False,index_col='Accident_Index',warn_bad_lines=False)\n",
        "verhiclesType = pd.read_csv('contextCSVs/Vehicle_Type.csv')\n",
        "verhiclesType.rename(columns={'label':'vehicle'}, inplace=True)\n"
      ],
      "execution_count": null,
      "outputs": []
    },
    {
      "cell_type": "code",
      "metadata": {
        "colab": {
          "background_save": true
        },
        "id": "9UrBpPKMQ8jn",
        "outputId": "d8b9101c-8d01-4b0b-ea92-2ddaa596ee0c"
      },
      "source": [
        "# Đếm tổng số lượng các vụ tai nạn theo lọai phương tiện, sắp xếp giảm dần theo tổng số lượng số vụ tai nạn\n",
        "accidentByVehicle = vehicles0515.groupby('Vehicle_Type')['Vehicle_Type'].agg(['count']).reset_index()\n",
        "accidentByVehicle.rename(columns={'count':'total_accident'}, inplace=True)\n",
        "accidentByVehicleSumarry = accidentByVehicle.set_index('Vehicle_Type').join(verhiclesType.set_index('code')).sort_values(by='total_accident', ascending=False).reset_index()\n",
        "accidentByVehicleSumarry[['total_accident', 'vehicle']]"
      ],
      "execution_count": null,
      "outputs": [
        {
          "data": {
            "text/html": [
              "<div>\n",
              "<style scoped>\n",
              "    .dataframe tbody tr th:only-of-type {\n",
              "        vertical-align: middle;\n",
              "    }\n",
              "\n",
              "    .dataframe tbody tr th {\n",
              "        vertical-align: top;\n",
              "    }\n",
              "\n",
              "    .dataframe thead th {\n",
              "        text-align: right;\n",
              "    }\n",
              "</style>\n",
              "<table border=\"1\" class=\"dataframe\">\n",
              "  <thead>\n",
              "    <tr style=\"text-align: right;\">\n",
              "      <th></th>\n",
              "      <th>total_accident</th>\n",
              "      <th>vehicle</th>\n",
              "    </tr>\n",
              "  </thead>\n",
              "  <tbody>\n",
              "    <tr>\n",
              "      <th>0</th>\n",
              "      <td>2205201</td>\n",
              "      <td>Car</td>\n",
              "    </tr>\n",
              "    <tr>\n",
              "      <th>1</th>\n",
              "      <td>184083</td>\n",
              "      <td>Pedal cycle</td>\n",
              "    </tr>\n",
              "    <tr>\n",
              "      <th>2</th>\n",
              "      <td>138182</td>\n",
              "      <td>Van / Goods 3.5 tonnes mgw or under</td>\n",
              "    </tr>\n",
              "    <tr>\n",
              "      <th>3</th>\n",
              "      <td>86904</td>\n",
              "      <td>Motorcycle over 500cc</td>\n",
              "    </tr>\n",
              "    <tr>\n",
              "      <th>4</th>\n",
              "      <td>76888</td>\n",
              "      <td>Bus or coach (17 or more pass seats)</td>\n",
              "    </tr>\n",
              "    <tr>\n",
              "      <th>5</th>\n",
              "      <td>70152</td>\n",
              "      <td>Motorcycle 125cc and under</td>\n",
              "    </tr>\n",
              "    <tr>\n",
              "      <th>6</th>\n",
              "      <td>62962</td>\n",
              "      <td>Goods 7.5 tonnes mgw and over</td>\n",
              "    </tr>\n",
              "    <tr>\n",
              "      <th>7</th>\n",
              "      <td>52409</td>\n",
              "      <td>Taxi/Private hire car</td>\n",
              "    </tr>\n",
              "    <tr>\n",
              "      <th>8</th>\n",
              "      <td>37224</td>\n",
              "      <td>Motorcycle 50cc and under</td>\n",
              "    </tr>\n",
              "    <tr>\n",
              "      <th>9</th>\n",
              "      <td>25686</td>\n",
              "      <td>Motorcycle over 125cc and up to 500cc</td>\n",
              "    </tr>\n",
              "    <tr>\n",
              "      <th>10</th>\n",
              "      <td>24305</td>\n",
              "      <td>Other vehicle</td>\n",
              "    </tr>\n",
              "    <tr>\n",
              "      <th>11</th>\n",
              "      <td>22567</td>\n",
              "      <td>Goods over 3.5t. and under 7.5t</td>\n",
              "    </tr>\n",
              "    <tr>\n",
              "      <th>12</th>\n",
              "      <td>8387</td>\n",
              "      <td>Minibus (8 - 16 passenger seats)</td>\n",
              "    </tr>\n",
              "    <tr>\n",
              "      <th>13</th>\n",
              "      <td>6304</td>\n",
              "      <td>Agricultural vehicle</td>\n",
              "    </tr>\n",
              "    <tr>\n",
              "      <th>14</th>\n",
              "      <td>1297</td>\n",
              "      <td>Ridden horse</td>\n",
              "    </tr>\n",
              "    <tr>\n",
              "      <th>15</th>\n",
              "      <td>473</td>\n",
              "      <td>Data missing or out of range</td>\n",
              "    </tr>\n",
              "    <tr>\n",
              "      <th>16</th>\n",
              "      <td>459</td>\n",
              "      <td>Mobility scooter</td>\n",
              "    </tr>\n",
              "    <tr>\n",
              "      <th>17</th>\n",
              "      <td>387</td>\n",
              "      <td>Goods vehicle - unknown weight</td>\n",
              "    </tr>\n",
              "    <tr>\n",
              "      <th>18</th>\n",
              "      <td>286</td>\n",
              "      <td>Motorcycle - unknown cc</td>\n",
              "    </tr>\n",
              "    <tr>\n",
              "      <th>19</th>\n",
              "      <td>250</td>\n",
              "      <td>Tram</td>\n",
              "    </tr>\n",
              "    <tr>\n",
              "      <th>20</th>\n",
              "      <td>19</td>\n",
              "      <td>Electric motorcycle</td>\n",
              "    </tr>\n",
              "  </tbody>\n",
              "</table>\n",
              "</div>"
            ],
            "text/plain": [
              "    total_accident                                vehicle\n",
              "0          2205201                                    Car\n",
              "1           184083                            Pedal cycle\n",
              "2           138182    Van / Goods 3.5 tonnes mgw or under\n",
              "3            86904                  Motorcycle over 500cc\n",
              "4            76888   Bus or coach (17 or more pass seats)\n",
              "5            70152             Motorcycle 125cc and under\n",
              "6            62962          Goods 7.5 tonnes mgw and over\n",
              "7            52409                  Taxi/Private hire car\n",
              "8            37224              Motorcycle 50cc and under\n",
              "9            25686  Motorcycle over 125cc and up to 500cc\n",
              "10           24305                          Other vehicle\n",
              "11           22567        Goods over 3.5t. and under 7.5t\n",
              "12            8387       Minibus (8 - 16 passenger seats)\n",
              "13            6304                   Agricultural vehicle\n",
              "14            1297                           Ridden horse\n",
              "15             473           Data missing or out of range\n",
              "16             459                       Mobility scooter\n",
              "17             387         Goods vehicle - unknown weight\n",
              "18             286                Motorcycle - unknown cc\n",
              "19             250                                   Tram\n",
              "20              19                    Electric motorcycle"
            ]
          },
          "execution_count": null,
          "metadata": {},
          "output_type": "execute_result"
        }
      ]
    },
    {
      "cell_type": "code",
      "metadata": {
        "colab": {
          "background_save": true
        },
        "id": "0RJlaVEwf2SL",
        "outputId": "f640b320-9069-4d7a-a308-2f49d5d2107e"
      },
      "source": [
        "# Trực quan hóa dữ liệu có được bằng biểu đồ tròn\n",
        "\n",
        "vehicle = list(accidentByVehicleSumarry['vehicle'])\n",
        "total_accident = list(accidentByVehicleSumarry['total_accident'])\n",
        "fig = plt.figure(figsize = (40, 10));\n",
        "plt.pie(total_accident, labels = vehicle)\n",
        "# plt.legend()\n",
        "plt.show()"
      ],
      "execution_count": null,
      "outputs": [
        {
          "data": {
            "image/png": "[encoded data removed]",
            "text/plain": [
              "<Figure size 2880x720 with 1 Axes>"
            ]
          },
          "metadata": {},
          "output_type": "display_data"
        }
      ]
    },
    {
      "cell_type": "markdown",
      "metadata": {
        "id": "JN2SYlROXCEI"
      },
      "source": [
        "**Kết luận:**\n",
        "\n",
        " Loại phương tiện hay xảy ra tai nạn giao thông nhất là xe hơi"
      ]
    },
    {
      "cell_type": "markdown",
      "metadata": {
        "id": "chwMBcUNF-Vt"
      },
      "source": [
        "# **7. DỰ ĐOÁN VÀ ĐÁNH GIÁ**"
      ]
    },
    {
      "cell_type": "markdown",
      "metadata": {
        "id": "hSBwoeX_GTYJ"
      },
      "source": [
        "Chúng ta sẽ khảo sát, tìm kiếm nguyên nhân gây tai nạn rõ nhất, từ đó đưa ra hướng khắc phục"
      ]
    },
    {
      "cell_type": "code",
      "metadata": {
        "colab": {
          "background_save": true
        },
        "id": "52adCQpRGL5B"
      },
      "source": [
        "from sklearn.model_selection import train_test_split\n",
        "from sklearn.metrics import accuracy_score\n",
        "from sklearn.metrics import classification_report"
      ],
      "execution_count": null,
      "outputs": []
    },
    {
      "cell_type": "code",
      "metadata": {
        "colab": {
          "background_save": true
        },
        "id": "9fhGDkUyvVOM",
        "outputId": "5383373e-43b7-4d12-868b-e2278ffa3558"
      },
      "source": [
        "#data ban đầu\n",
        "df = Accidents\n",
        "df.head()"
      ],
      "execution_count": null,
      "outputs": [
        {
          "data": {
            "text/html": [
              "<div>\n",
              "<style scoped>\n",
              "    .dataframe tbody tr th:only-of-type {\n",
              "        vertical-align: middle;\n",
              "    }\n",
              "\n",
              "    .dataframe tbody tr th {\n",
              "        vertical-align: top;\n",
              "    }\n",
              "\n",
              "    .dataframe thead th {\n",
              "        text-align: right;\n",
              "    }\n",
              "</style>\n",
              "<table border=\"1\" class=\"dataframe\">\n",
              "  <thead>\n",
              "    <tr style=\"text-align: right;\">\n",
              "      <th></th>\n",
              "      <th>Longitude</th>\n",
              "      <th>Latitude</th>\n",
              "      <th>Police_Force</th>\n",
              "      <th>Accident_Severity</th>\n",
              "      <th>Number_of_Vehicles</th>\n",
              "      <th>Number_of_Casualties</th>\n",
              "      <th>Day_of_Week</th>\n",
              "      <th>Local_Authority_(District)</th>\n",
              "      <th>Local_Authority_(Highway)</th>\n",
              "      <th>1st_Road_Class</th>\n",
              "      <th>1st_Road_Number</th>\n",
              "      <th>Road_Type</th>\n",
              "      <th>Speed_limit</th>\n",
              "      <th>Junction_Detail</th>\n",
              "      <th>2nd_Road_Number</th>\n",
              "      <th>Pedestrian_Crossing-Human_Control</th>\n",
              "      <th>Pedestrian_Crossing-Physical_Facilities</th>\n",
              "      <th>Light_Conditions</th>\n",
              "      <th>Weather_Conditions</th>\n",
              "      <th>Road_Surface_Conditions</th>\n",
              "      <th>Special_Conditions_at_Site</th>\n",
              "      <th>Carriageway_Hazards</th>\n",
              "      <th>Urban_or_Rural_Area</th>\n",
              "      <th>Did_Police_Officer_Attend_Scene_of_Accident</th>\n",
              "      <th>Vehicle_Reference</th>\n",
              "      <th>Vehicle_Type</th>\n",
              "      <th>Towing_and_Articulation</th>\n",
              "      <th>Vehicle_Manoeuvre</th>\n",
              "      <th>Vehicle_Location-Restricted_Lane</th>\n",
              "      <th>Junction_Location</th>\n",
              "      <th>Skidding_and_Overturning</th>\n",
              "      <th>Hit_Object_in_Carriageway</th>\n",
              "      <th>Vehicle_Leaving_Carriageway</th>\n",
              "      <th>Hit_Object_off_Carriageway</th>\n",
              "      <th>1st_Point_of_Impact</th>\n",
              "      <th>Was_Vehicle_Left_Hand_Drive?</th>\n",
              "      <th>Journey_Purpose_of_Driver</th>\n",
              "      <th>Sex_of_Driver</th>\n",
              "      <th>Age_of_Driver</th>\n",
              "      <th>Age_Band_of_Driver</th>\n",
              "      <th>Engine_Capacity_(CC)</th>\n",
              "      <th>Propulsion_Code</th>\n",
              "      <th>Age_of_Vehicle</th>\n",
              "      <th>Driver_IMD_Decile</th>\n",
              "      <th>Driver_Home_Area_Type</th>\n",
              "      <th>Date_time</th>\n",
              "    </tr>\n",
              "    <tr>\n",
              "      <th>Accident_Index</th>\n",
              "      <th></th>\n",
              "      <th></th>\n",
              "      <th></th>\n",
              "      <th></th>\n",
              "      <th></th>\n",
              "      <th></th>\n",
              "      <th></th>\n",
              "      <th></th>\n",
              "      <th></th>\n",
              "      <th></th>\n",
              "      <th></th>\n",
              "      <th></th>\n",
              "      <th></th>\n",
              "      <th></th>\n",
              "      <th></th>\n",
              "      <th></th>\n",
              "      <th></th>\n",
              "      <th></th>\n",
              "      <th></th>\n",
              "      <th></th>\n",
              "      <th></th>\n",
              "      <th></th>\n",
              "      <th></th>\n",
              "      <th></th>\n",
              "      <th></th>\n",
              "      <th></th>\n",
              "      <th></th>\n",
              "      <th></th>\n",
              "      <th></th>\n",
              "      <th></th>\n",
              "      <th></th>\n",
              "      <th></th>\n",
              "      <th></th>\n",
              "      <th></th>\n",
              "      <th></th>\n",
              "      <th></th>\n",
              "      <th></th>\n",
              "      <th></th>\n",
              "      <th></th>\n",
              "      <th></th>\n",
              "      <th></th>\n",
              "      <th></th>\n",
              "      <th></th>\n",
              "      <th></th>\n",
              "      <th></th>\n",
              "      <th></th>\n",
              "    </tr>\n",
              "  </thead>\n",
              "  <tbody>\n",
              "    <tr>\n",
              "      <th>200501BS00003</th>\n",
              "      <td>-0.206458</td>\n",
              "      <td>51.525301</td>\n",
              "      <td>1</td>\n",
              "      <td>3</td>\n",
              "      <td>2</td>\n",
              "      <td>1</td>\n",
              "      <td>5</td>\n",
              "      <td>12</td>\n",
              "      <td>E09000020</td>\n",
              "      <td>5</td>\n",
              "      <td>0</td>\n",
              "      <td>6</td>\n",
              "      <td>30</td>\n",
              "      <td>0</td>\n",
              "      <td>0</td>\n",
              "      <td>0</td>\n",
              "      <td>0</td>\n",
              "      <td>4</td>\n",
              "      <td>1</td>\n",
              "      <td>1</td>\n",
              "      <td>0</td>\n",
              "      <td>0</td>\n",
              "      <td>1</td>\n",
              "      <td>1</td>\n",
              "      <td>1.0</td>\n",
              "      <td>11.0</td>\n",
              "      <td>0.0</td>\n",
              "      <td>17.0</td>\n",
              "      <td>0.0</td>\n",
              "      <td>0.0</td>\n",
              "      <td>0.0</td>\n",
              "      <td>4.0</td>\n",
              "      <td>0.0</td>\n",
              "      <td>0.0</td>\n",
              "      <td>4.0</td>\n",
              "      <td>1.0</td>\n",
              "      <td>1.0</td>\n",
              "      <td>1.0</td>\n",
              "      <td>35.0</td>\n",
              "      <td>6.0</td>\n",
              "      <td>8300.0</td>\n",
              "      <td>2.0</td>\n",
              "      <td>5.0</td>\n",
              "      <td>2.0</td>\n",
              "      <td>1.0</td>\n",
              "      <td>2005-06-01 00:15:00</td>\n",
              "    </tr>\n",
              "    <tr>\n",
              "      <th>200501BS00003</th>\n",
              "      <td>-0.206458</td>\n",
              "      <td>51.525301</td>\n",
              "      <td>1</td>\n",
              "      <td>3</td>\n",
              "      <td>2</td>\n",
              "      <td>1</td>\n",
              "      <td>5</td>\n",
              "      <td>12</td>\n",
              "      <td>E09000020</td>\n",
              "      <td>5</td>\n",
              "      <td>0</td>\n",
              "      <td>6</td>\n",
              "      <td>30</td>\n",
              "      <td>0</td>\n",
              "      <td>0</td>\n",
              "      <td>0</td>\n",
              "      <td>0</td>\n",
              "      <td>4</td>\n",
              "      <td>1</td>\n",
              "      <td>1</td>\n",
              "      <td>0</td>\n",
              "      <td>0</td>\n",
              "      <td>1</td>\n",
              "      <td>1</td>\n",
              "      <td>2.0</td>\n",
              "      <td>9.0</td>\n",
              "      <td>0.0</td>\n",
              "      <td>2.0</td>\n",
              "      <td>0.0</td>\n",
              "      <td>0.0</td>\n",
              "      <td>0.0</td>\n",
              "      <td>0.0</td>\n",
              "      <td>0.0</td>\n",
              "      <td>0.0</td>\n",
              "      <td>3.0</td>\n",
              "      <td>1.0</td>\n",
              "      <td>15.0</td>\n",
              "      <td>1.0</td>\n",
              "      <td>62.0</td>\n",
              "      <td>9.0</td>\n",
              "      <td>1762.0</td>\n",
              "      <td>1.0</td>\n",
              "      <td>6.0</td>\n",
              "      <td>1.0</td>\n",
              "      <td>1.0</td>\n",
              "      <td>2005-06-01 00:15:00</td>\n",
              "    </tr>\n",
              "    <tr>\n",
              "      <th>200501BS00004</th>\n",
              "      <td>-0.173862</td>\n",
              "      <td>51.482442</td>\n",
              "      <td>1</td>\n",
              "      <td>3</td>\n",
              "      <td>1</td>\n",
              "      <td>1</td>\n",
              "      <td>6</td>\n",
              "      <td>12</td>\n",
              "      <td>E09000020</td>\n",
              "      <td>3</td>\n",
              "      <td>3220</td>\n",
              "      <td>6</td>\n",
              "      <td>30</td>\n",
              "      <td>0</td>\n",
              "      <td>0</td>\n",
              "      <td>0</td>\n",
              "      <td>0</td>\n",
              "      <td>1</td>\n",
              "      <td>1</td>\n",
              "      <td>1</td>\n",
              "      <td>0</td>\n",
              "      <td>0</td>\n",
              "      <td>1</td>\n",
              "      <td>1</td>\n",
              "      <td>1.0</td>\n",
              "      <td>9.0</td>\n",
              "      <td>0.0</td>\n",
              "      <td>18.0</td>\n",
              "      <td>0.0</td>\n",
              "      <td>0.0</td>\n",
              "      <td>0.0</td>\n",
              "      <td>0.0</td>\n",
              "      <td>0.0</td>\n",
              "      <td>0.0</td>\n",
              "      <td>1.0</td>\n",
              "      <td>1.0</td>\n",
              "      <td>15.0</td>\n",
              "      <td>2.0</td>\n",
              "      <td>49.0</td>\n",
              "      <td>8.0</td>\n",
              "      <td>1769.0</td>\n",
              "      <td>1.0</td>\n",
              "      <td>4.0</td>\n",
              "      <td>2.0</td>\n",
              "      <td>1.0</td>\n",
              "      <td>2005-07-01 10:35:00</td>\n",
              "    </tr>\n",
              "    <tr>\n",
              "      <th>200501BS00006</th>\n",
              "      <td>-0.203238</td>\n",
              "      <td>51.515540</td>\n",
              "      <td>1</td>\n",
              "      <td>3</td>\n",
              "      <td>2</td>\n",
              "      <td>1</td>\n",
              "      <td>3</td>\n",
              "      <td>12</td>\n",
              "      <td>E09000020</td>\n",
              "      <td>6</td>\n",
              "      <td>0</td>\n",
              "      <td>6</td>\n",
              "      <td>30</td>\n",
              "      <td>0</td>\n",
              "      <td>0</td>\n",
              "      <td>0</td>\n",
              "      <td>0</td>\n",
              "      <td>1</td>\n",
              "      <td>2</td>\n",
              "      <td>2</td>\n",
              "      <td>6</td>\n",
              "      <td>0</td>\n",
              "      <td>1</td>\n",
              "      <td>1</td>\n",
              "      <td>1.0</td>\n",
              "      <td>9.0</td>\n",
              "      <td>0.0</td>\n",
              "      <td>5.0</td>\n",
              "      <td>0.0</td>\n",
              "      <td>0.0</td>\n",
              "      <td>0.0</td>\n",
              "      <td>0.0</td>\n",
              "      <td>0.0</td>\n",
              "      <td>0.0</td>\n",
              "      <td>0.0</td>\n",
              "      <td>1.0</td>\n",
              "      <td>15.0</td>\n",
              "      <td>1.0</td>\n",
              "      <td>51.0</td>\n",
              "      <td>8.0</td>\n",
              "      <td>2976.0</td>\n",
              "      <td>1.0</td>\n",
              "      <td>1.0</td>\n",
              "      <td>4.0</td>\n",
              "      <td>1.0</td>\n",
              "      <td>2005-11-01 12:40:00</td>\n",
              "    </tr>\n",
              "    <tr>\n",
              "      <th>200501BS00006</th>\n",
              "      <td>-0.203238</td>\n",
              "      <td>51.515540</td>\n",
              "      <td>1</td>\n",
              "      <td>3</td>\n",
              "      <td>2</td>\n",
              "      <td>1</td>\n",
              "      <td>3</td>\n",
              "      <td>12</td>\n",
              "      <td>E09000020</td>\n",
              "      <td>6</td>\n",
              "      <td>0</td>\n",
              "      <td>6</td>\n",
              "      <td>30</td>\n",
              "      <td>0</td>\n",
              "      <td>0</td>\n",
              "      <td>0</td>\n",
              "      <td>0</td>\n",
              "      <td>1</td>\n",
              "      <td>2</td>\n",
              "      <td>2</td>\n",
              "      <td>6</td>\n",
              "      <td>0</td>\n",
              "      <td>1</td>\n",
              "      <td>1</td>\n",
              "      <td>2.0</td>\n",
              "      <td>3.0</td>\n",
              "      <td>0.0</td>\n",
              "      <td>18.0</td>\n",
              "      <td>0.0</td>\n",
              "      <td>0.0</td>\n",
              "      <td>0.0</td>\n",
              "      <td>0.0</td>\n",
              "      <td>0.0</td>\n",
              "      <td>0.0</td>\n",
              "      <td>0.0</td>\n",
              "      <td>1.0</td>\n",
              "      <td>15.0</td>\n",
              "      <td>2.0</td>\n",
              "      <td>30.0</td>\n",
              "      <td>6.0</td>\n",
              "      <td>124.0</td>\n",
              "      <td>1.0</td>\n",
              "      <td>2.0</td>\n",
              "      <td>1.0</td>\n",
              "      <td>1.0</td>\n",
              "      <td>2005-11-01 12:40:00</td>\n",
              "    </tr>\n",
              "  </tbody>\n",
              "</table>\n",
              "</div>"
            ],
            "text/plain": [
              "                Longitude   Latitude  ...  Driver_Home_Area_Type           Date_time\n",
              "Accident_Index                        ...                                           \n",
              "200501BS00003   -0.206458  51.525301  ...                    1.0 2005-06-01 00:15:00\n",
              "200501BS00003   -0.206458  51.525301  ...                    1.0 2005-06-01 00:15:00\n",
              "200501BS00004   -0.173862  51.482442  ...                    1.0 2005-07-01 10:35:00\n",
              "200501BS00006   -0.203238  51.515540  ...                    1.0 2005-11-01 12:40:00\n",
              "200501BS00006   -0.203238  51.515540  ...                    1.0 2005-11-01 12:40:00\n",
              "\n",
              "[5 rows x 46 columns]"
            ]
          },
          "execution_count": null,
          "metadata": {},
          "output_type": "execute_result"
        }
      ]
    },
    {
      "cell_type": "markdown",
      "metadata": {
        "id": "nmf6kyvMyYLm"
      },
      "source": [
        "Ta sẽ tiến hành đánh giá xem điều nào khiến cho các vụ tai nạn xảy ra ở mức độ nghiêm trọng nhất"
      ]
    },
    {
      "cell_type": "markdown",
      "metadata": {
        "id": "hQ1bgXRvykIB"
      },
      "source": [
        "Đầu tiên ta cần tách dữ liệu"
      ]
    },
    {
      "cell_type": "code",
      "metadata": {
        "colab": {
          "background_save": true
        },
        "id": "VM6DbTsDyWd0"
      },
      "source": [
        "df_x=df.drop('Accident_Severity', axis=1)"
      ],
      "execution_count": null,
      "outputs": []
    },
    {
      "cell_type": "markdown",
      "metadata": {
        "id": "I6S051pjzRQE"
      },
      "source": [
        "Tiếp tục loại bỏ các trường không thể hiện điều kiện xảy ra tai nạn (khu vực,...) chỉ giữ lại những trường có khả năng ảnh hưởng đến tai nạn như điều kiện ánh sáng, ..."
      ]
    },
    {
      "cell_type": "code",
      "metadata": {
        "colab": {
          "background_save": true
        },
        "id": "o-s2wjFxzeye",
        "outputId": "449b4734-c886-48dd-f2c7-8d8ce1251e46"
      },
      "source": [
        "df_x = df_x[['Did_Police_Officer_Attend_Scene_of_Accident', 'Age_of_Driver', 'Vehicle_Type', 'Age_of_Vehicle', 'Engine_Capacity_(CC)', 'Day_of_Week', 'Weather_Conditions', 'Road_Surface_Conditions', 'Light_Conditions', 'Sex_of_Driver', 'Speed_limit']]\n",
        "df_x.head()"
      ],
      "execution_count": null,
      "outputs": [
        {
          "data": {
            "text/html": [
              "<div>\n",
              "<style scoped>\n",
              "    .dataframe tbody tr th:only-of-type {\n",
              "        vertical-align: middle;\n",
              "    }\n",
              "\n",
              "    .dataframe tbody tr th {\n",
              "        vertical-align: top;\n",
              "    }\n",
              "\n",
              "    .dataframe thead th {\n",
              "        text-align: right;\n",
              "    }\n",
              "</style>\n",
              "<table border=\"1\" class=\"dataframe\">\n",
              "  <thead>\n",
              "    <tr style=\"text-align: right;\">\n",
              "      <th></th>\n",
              "      <th>Did_Police_Officer_Attend_Scene_of_Accident</th>\n",
              "      <th>Age_of_Driver</th>\n",
              "      <th>Vehicle_Type</th>\n",
              "      <th>Age_of_Vehicle</th>\n",
              "      <th>Engine_Capacity_(CC)</th>\n",
              "      <th>Day_of_Week</th>\n",
              "      <th>Weather_Conditions</th>\n",
              "      <th>Road_Surface_Conditions</th>\n",
              "      <th>Light_Conditions</th>\n",
              "      <th>Sex_of_Driver</th>\n",
              "      <th>Speed_limit</th>\n",
              "    </tr>\n",
              "    <tr>\n",
              "      <th>Accident_Index</th>\n",
              "      <th></th>\n",
              "      <th></th>\n",
              "      <th></th>\n",
              "      <th></th>\n",
              "      <th></th>\n",
              "      <th></th>\n",
              "      <th></th>\n",
              "      <th></th>\n",
              "      <th></th>\n",
              "      <th></th>\n",
              "      <th></th>\n",
              "    </tr>\n",
              "  </thead>\n",
              "  <tbody>\n",
              "    <tr>\n",
              "      <th>200501BS00003</th>\n",
              "      <td>1</td>\n",
              "      <td>35.0</td>\n",
              "      <td>11.0</td>\n",
              "      <td>5.0</td>\n",
              "      <td>8300.0</td>\n",
              "      <td>5</td>\n",
              "      <td>1</td>\n",
              "      <td>1</td>\n",
              "      <td>4</td>\n",
              "      <td>1.0</td>\n",
              "      <td>30</td>\n",
              "    </tr>\n",
              "    <tr>\n",
              "      <th>200501BS00003</th>\n",
              "      <td>1</td>\n",
              "      <td>62.0</td>\n",
              "      <td>9.0</td>\n",
              "      <td>6.0</td>\n",
              "      <td>1762.0</td>\n",
              "      <td>5</td>\n",
              "      <td>1</td>\n",
              "      <td>1</td>\n",
              "      <td>4</td>\n",
              "      <td>1.0</td>\n",
              "      <td>30</td>\n",
              "    </tr>\n",
              "    <tr>\n",
              "      <th>200501BS00004</th>\n",
              "      <td>1</td>\n",
              "      <td>49.0</td>\n",
              "      <td>9.0</td>\n",
              "      <td>4.0</td>\n",
              "      <td>1769.0</td>\n",
              "      <td>6</td>\n",
              "      <td>1</td>\n",
              "      <td>1</td>\n",
              "      <td>1</td>\n",
              "      <td>2.0</td>\n",
              "      <td>30</td>\n",
              "    </tr>\n",
              "    <tr>\n",
              "      <th>200501BS00006</th>\n",
              "      <td>1</td>\n",
              "      <td>51.0</td>\n",
              "      <td>9.0</td>\n",
              "      <td>1.0</td>\n",
              "      <td>2976.0</td>\n",
              "      <td>3</td>\n",
              "      <td>2</td>\n",
              "      <td>2</td>\n",
              "      <td>1</td>\n",
              "      <td>1.0</td>\n",
              "      <td>30</td>\n",
              "    </tr>\n",
              "    <tr>\n",
              "      <th>200501BS00006</th>\n",
              "      <td>1</td>\n",
              "      <td>30.0</td>\n",
              "      <td>3.0</td>\n",
              "      <td>2.0</td>\n",
              "      <td>124.0</td>\n",
              "      <td>3</td>\n",
              "      <td>2</td>\n",
              "      <td>2</td>\n",
              "      <td>1</td>\n",
              "      <td>2.0</td>\n",
              "      <td>30</td>\n",
              "    </tr>\n",
              "  </tbody>\n",
              "</table>\n",
              "</div>"
            ],
            "text/plain": [
              "                Did_Police_Officer_Attend_Scene_of_Accident  ...  Speed_limit\n",
              "Accident_Index                                               ...             \n",
              "200501BS00003                                             1  ...           30\n",
              "200501BS00003                                             1  ...           30\n",
              "200501BS00004                                             1  ...           30\n",
              "200501BS00006                                             1  ...           30\n",
              "200501BS00006                                             1  ...           30\n",
              "\n",
              "[5 rows x 11 columns]"
            ]
          },
          "execution_count": null,
          "metadata": {},
          "output_type": "execute_result"
        }
      ]
    },
    {
      "cell_type": "code",
      "metadata": {
        "colab": {
          "background_save": true
        },
        "id": "8J_M0nDHHQPS"
      },
      "source": [
        "df_x['Age_of_Driver'] = np.log(df_x['Age_of_Driver'])\n",
        "df_x['Age_of_Vehicle'] = np.log(df_x['Age_of_Vehicle'])"
      ],
      "execution_count": null,
      "outputs": []
    },
    {
      "cell_type": "markdown",
      "metadata": {
        "id": "KLMRvL04CbX6"
      },
      "source": [
        "Sau đó tiến hành chia dữ liệu vào các tập train và test"
      ]
    },
    {
      "cell_type": "code",
      "metadata": {
        "colab": {
          "background_save": true
        },
        "id": "wiCOiSATCgXG"
      },
      "source": [
        "X_train, X_test, y_train, y_test = train_test_split(df_x.values, df['Accident_Severity'].values, random_state=99)"
      ],
      "execution_count": null,
      "outputs": []
    },
    {
      "cell_type": "markdown",
      "metadata": {
        "id": "jXA6bFH1Exnh"
      },
      "source": [
        "Chúng ta sẽ sử dụng  model để predict"
      ]
    },
    {
      "cell_type": "code",
      "metadata": {
        "colab": {
          "background_save": true
        },
        "id": "yUzF6ogHOBSi",
        "outputId": "e6642a5f-1d69-4a85-eb61-6b51cb71b97b"
      },
      "source": [
        "from sklearn.tree import DecisionTreeClassifier\n",
        "model = DecisionTreeClassifier()\n",
        "\n",
        "model.fit(X_train, y_train)\n",
        "\n",
        "y_pred = model.predict(X_test)\n",
        "y_pred"
      ],
      "execution_count": null,
      "outputs": [
        {
          "data": {
            "text/plain": [
              "array([3, 3, 3, ..., 3, 1, 2])"
            ]
          },
          "execution_count": null,
          "metadata": {},
          "output_type": "execute_result"
        }
      ]
    },
    {
      "cell_type": "code",
      "metadata": {
        "colab": {
          "background_save": true
        },
        "id": "LVV7i7x8UQ_V",
        "outputId": "a4a2392d-bf33-4b39-b475-9247983bdc58"
      },
      "source": [
        "pd.crosstab(y_test, y_pred, rownames=['Actual'], colnames=['Predicted'], margins=True)"
      ],
      "execution_count": null,
      "outputs": [
        {
          "data": {
            "text/html": [
              "<div>\n",
              "<style scoped>\n",
              "    .dataframe tbody tr th:only-of-type {\n",
              "        vertical-align: middle;\n",
              "    }\n",
              "\n",
              "    .dataframe tbody tr th {\n",
              "        vertical-align: top;\n",
              "    }\n",
              "\n",
              "    .dataframe thead th {\n",
              "        text-align: right;\n",
              "    }\n",
              "</style>\n",
              "<table border=\"1\" class=\"dataframe\">\n",
              "  <thead>\n",
              "    <tr style=\"text-align: right;\">\n",
              "      <th>Predicted</th>\n",
              "      <th>1</th>\n",
              "      <th>2</th>\n",
              "      <th>3</th>\n",
              "      <th>All</th>\n",
              "    </tr>\n",
              "    <tr>\n",
              "      <th>Actual</th>\n",
              "      <th></th>\n",
              "      <th></th>\n",
              "      <th></th>\n",
              "      <th></th>\n",
              "    </tr>\n",
              "  </thead>\n",
              "  <tbody>\n",
              "    <tr>\n",
              "      <th>1</th>\n",
              "      <td>229</td>\n",
              "      <td>1157</td>\n",
              "      <td>3747</td>\n",
              "      <td>5133</td>\n",
              "    </tr>\n",
              "    <tr>\n",
              "      <th>2</th>\n",
              "      <td>1235</td>\n",
              "      <td>8931</td>\n",
              "      <td>37471</td>\n",
              "      <td>47637</td>\n",
              "    </tr>\n",
              "    <tr>\n",
              "      <th>3</th>\n",
              "      <td>4978</td>\n",
              "      <td>46471</td>\n",
              "      <td>279479</td>\n",
              "      <td>330928</td>\n",
              "    </tr>\n",
              "    <tr>\n",
              "      <th>All</th>\n",
              "      <td>6442</td>\n",
              "      <td>56559</td>\n",
              "      <td>320697</td>\n",
              "      <td>383698</td>\n",
              "    </tr>\n",
              "  </tbody>\n",
              "</table>\n",
              "</div>"
            ],
            "text/plain": [
              "Predicted     1      2       3     All\n",
              "Actual                                \n",
              "1           229   1157    3747    5133\n",
              "2          1235   8931   37471   47637\n",
              "3          4978  46471  279479  330928\n",
              "All        6442  56559  320697  383698"
            ]
          },
          "execution_count": null,
          "metadata": {},
          "output_type": "execute_result"
        }
      ]
    },
    {
      "cell_type": "code",
      "metadata": {
        "colab": {
          "background_save": true
        },
        "id": "LLxw6erdVEY7",
        "outputId": "d157fff4-06c7-4c7f-d36f-ba1d831f3f66"
      },
      "source": [
        "acc_decision_tree1 = round(model.score(X_test, y_test) * 100, 2)\n",
        "sk_report = classification_report(\n",
        "    digits=6,\n",
        "    y_true=y_test, \n",
        "    y_pred=y_pred)\n",
        "print(\"Accuracy\", acc_decision_tree1)\n",
        "print(sk_report)"
      ],
      "execution_count": null,
      "outputs": [
        {
          "name": "stdout",
          "output_type": "stream",
          "text": [
            "Accuracy 75.23\n",
            "              precision    recall  f1-score   support\n",
            "\n",
            "           1   0.035548  0.044613  0.039568      5133\n",
            "           2   0.157906  0.187480  0.171427     47637\n",
            "           3   0.871474  0.844531  0.857791    330928\n",
            "\n",
            "    accuracy                       0.752256    383698\n",
            "   macro avg   0.354976  0.358875  0.356262    383698\n",
            "weighted avg   0.771700  0.752256  0.761631    383698\n",
            "\n"
          ]
        }
      ]
    },
    {
      "cell_type": "markdown",
      "metadata": {
        "id": "Tp3GoQzeWUC7"
      },
      "source": [
        "Chúng ta tiếp tục dùng thư viện để xem xét điều kiện nào là quan trọng nhất ảnh hưởng tới vụ tai nạn"
      ]
    },
    {
      "cell_type": "code",
      "metadata": {
        "colab": {
          "background_save": true
        },
        "id": "hU4Jc-q9VytL",
        "outputId": "981190ca-b380-4a0e-f0ce-3f01bba984b8"
      },
      "source": [
        "plt.figure(figsize=(12,6))\n",
        "feat_importances = pd.Series(model.feature_importances_, index=df_x.columns)\n",
        "feat_importances.nlargest(5).plot(kind='barh')"
      ],
      "execution_count": null,
      "outputs": [
        {
          "data": {
            "text/plain": [
              "<matplotlib.axes._subplots.AxesSubplot at 0x7ff9e9c0afd0>"
            ]
          },
          "execution_count": null,
          "metadata": {},
          "output_type": "execute_result"
        },
        {
          "data": {
            "image/png": "[encoded data removed]",
            "text/plain": [
              "<Figure size 864x432 with 1 Axes>"
            ]
          },
          "metadata": {},
          "output_type": "display_data"
        }
      ]
    },
    {
      "cell_type": "markdown",
      "metadata": {
        "id": "Rbz_RZPbYFGl"
      },
      "source": [
        "**KẾT LUẬN**\n",
        "\n",
        "Có thể thấy điều kiện ảnh hưởng đến các vụ tai nạn nhất là dung tích của động cơ và tuổi của tài xế, ngoài ra tuổi của phương tiện cũng ảnh hưởng lớn đến tính chất nghiêm trọng của vụ tai nạn."
      ]
    },
    {
      "cell_type": "code",
      "metadata": {
        "colab": {
          "background_save": true
        },
        "id": "q-9he4MTYtp4",
        "outputId": "2d55c979-179f-4e44-b527-95c8b6d0e081"
      },
      "source": [
        "age1 = df['Age_of_Vehicle'].max()\n",
        "age1"
      ],
      "execution_count": null,
      "outputs": [
        {
          "data": {
            "text/plain": [
              "108.0"
            ]
          },
          "execution_count": null,
          "metadata": {},
          "output_type": "execute_result"
        }
      ]
    },
    {
      "cell_type": "code",
      "metadata": {
        "colab": {
          "background_save": true
        },
        "id": "mYFucAiQVRQJ",
        "outputId": "d238a3a2-d567-44d5-a289-3493d92718f5"
      },
      "source": [
        "age = pd.DataFrame(df['Age_of_Vehicle'])\n",
        "bins = [-1,0,3,5,15,111]\n",
        "labels = ['unknown','New','Nearly new','Avg','Old']\n",
        "age['AgeGroup'] = pd.cut(age['Age_of_Vehicle'], bins=bins, labels=labels, right=False)\n",
        "age.groupby('AgeGroup').count()"
      ],
      "execution_count": null,
      "outputs": [
        {
          "data": {
            "text/html": [
              "<div>\n",
              "<style scoped>\n",
              "    .dataframe tbody tr th:only-of-type {\n",
              "        vertical-align: middle;\n",
              "    }\n",
              "\n",
              "    .dataframe tbody tr th {\n",
              "        vertical-align: top;\n",
              "    }\n",
              "\n",
              "    .dataframe thead th {\n",
              "        text-align: right;\n",
              "    }\n",
              "</style>\n",
              "<table border=\"1\" class=\"dataframe\">\n",
              "  <thead>\n",
              "    <tr style=\"text-align: right;\">\n",
              "      <th></th>\n",
              "      <th>Age_of_Vehicle</th>\n",
              "    </tr>\n",
              "    <tr>\n",
              "      <th>AgeGroup</th>\n",
              "      <th></th>\n",
              "    </tr>\n",
              "  </thead>\n",
              "  <tbody>\n",
              "    <tr>\n",
              "      <th>unknown</th>\n",
              "      <td>0</td>\n",
              "    </tr>\n",
              "    <tr>\n",
              "      <th>New</th>\n",
              "      <td>241159</td>\n",
              "    </tr>\n",
              "    <tr>\n",
              "      <th>Nearly new</th>\n",
              "      <td>236539</td>\n",
              "    </tr>\n",
              "    <tr>\n",
              "      <th>Avg</th>\n",
              "      <td>973731</td>\n",
              "    </tr>\n",
              "    <tr>\n",
              "      <th>Old</th>\n",
              "      <td>83363</td>\n",
              "    </tr>\n",
              "  </tbody>\n",
              "</table>\n",
              "</div>"
            ],
            "text/plain": [
              "            Age_of_Vehicle\n",
              "AgeGroup                  \n",
              "unknown                  0\n",
              "New                 241159\n",
              "Nearly new          236539\n",
              "Avg                 973731\n",
              "Old                  83363"
            ]
          },
          "execution_count": null,
          "metadata": {},
          "output_type": "execute_result"
        }
      ]
    },
    {
      "cell_type": "markdown",
      "metadata": {
        "id": "XLuvHJUKYSsw"
      },
      "source": [
        "**KẾT LUẬN**\n",
        "\n",
        "Với tuổi tác của phương tiện, ta có thể thấy các phương tiện từ trung bình đến cũ chiếm đa số, khá nhiều trong các vụ tai nạn nghiêm trọng, do đó có thể đề xuất biện pháp kiểm tra tuổi thọ xe, cấp giấy phép với xe có tuổi thọ trung bình và lớn để tránh trường hợp xe hư hỏng"
      ]
    }
  ]
}